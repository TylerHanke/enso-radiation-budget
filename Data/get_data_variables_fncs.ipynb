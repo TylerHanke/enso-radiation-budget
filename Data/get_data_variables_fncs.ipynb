{
 "cells": [
  {
   "cell_type": "code",
   "execution_count": null,
   "metadata": {},
   "outputs": [],
   "source": [
    "##### DEFINE FUNCTIONS #####"
   ]
  },
  {
   "cell_type": "code",
   "execution_count": null,
   "metadata": {},
   "outputs": [],
   "source": [
    "## Get anomalies/composites\n",
    "# Define anomaly function\n",
    "def get_anomaly(x,detrend):\n",
    "    clim = x.groupby('time.month').mean(dim='time')\n",
    "    if detrend == 1:\n",
    "        poly = x.polyfit(dim='time', deg=1)\n",
    "        fit = xr.polyval(x['time'], poly.polyfit_coefficients)\n",
    "        return x.groupby('time.month') - clim - fit\n",
    "    else:\n",
    "        return x.groupby('time.month') - clim\n",
    "\n",
    "# Define composite functions\n",
    "def composite(x):\n",
    "    path = '/data/keeling/a/tjhanke2/enso-energy-budget/Data/processed_data/ccf_anom_lo_res/nino3_4/'\n",
    "    nino34 = xr.open_dataset(path+'nino34_index.nc').__xarray_dataarray_variable__\n",
    "    \n",
    "    return x.groupby(nino34.rename('nino34')).mean(dim='time')"
   ]
  },
  {
   "cell_type": "code",
   "execution_count": null,
   "metadata": {},
   "outputs": [],
   "source": [
    "## Get global-means\n",
    "def global_mean(x):\n",
    "    return x.weighted(weight).mean(dim=('latitude','longitude'))"
   ]
  },
  {
   "cell_type": "code",
   "execution_count": null,
   "metadata": {},
   "outputs": [],
   "source": [
    "## Get Clear Sky Radiation Anomalies across pressure levels\n",
    "def get_mean_across_lev(kernel,del_param):\n",
    "    arr = []\n",
    "    kernel = kernel.transpose('plev',...)\n",
    "    del_param = del_param.transpose('plev',...)\n",
    "    \n",
    "    for i in range(0,len(kernel.plev)):           \n",
    "        # Do calculation at each p level\n",
    "        if i != len(kernel.plev)-1:\n",
    "            calc = kernel[i] * del_param[i] * (kernel.plev[i] - kernel.plev[i+1])/100\n",
    "        else:\n",
    "            calc = kernel[i] * del_param[i] * (kernel.plev[i] - 0)/100\n",
    "        \n",
    "        # Append to arrays\n",
    "        arr.append(calc)\n",
    "    \n",
    "    # Concat each array into DataArrays, and then sum\n",
    "    calc_da = xr.concat(arr, dim='plev')\n",
    "    calc_xr = calc_da.sum(dim='plev')\n",
    "    calc_mon_avg = calc_xr.mean(dim='month')\n",
    "    \n",
    "    return calc_mon_avg"
   ]
  },
  {
   "cell_type": "code",
   "execution_count": null,
   "metadata": {},
   "outputs": [],
   "source": [
    "## Get CRE across p,tau bins\n",
    "def get_mean_across_bins(x_cld,x_clr,cld_area):\n",
    "    arr = []\n",
    "    n = int(x_cld.press[0])\n",
    "    m = int(x_cld.press[-1])\n",
    "    \n",
    "    for i in range(n,m):\n",
    "        for j in range(0,6):            \n",
    "            # Do calculation in each p,tau bin\n",
    "            calc = cld_area.sel(press=i,opt=j) * (x_cld.sel(press=i,opt=j) - x_clr)\n",
    "            \n",
    "            # Append to arrays\n",
    "            arr.append(calc)\n",
    "    \n",
    "    # Concat each array into DataArrays, and then sum\n",
    "    calc_da = xr.concat(arr, dim='pressopt')\n",
    "    calc_xr = calc_da.sum(dim='pressopt')\n",
    "    \n",
    "    return calc_xr"
   ]
  },
  {
   "cell_type": "code",
   "execution_count": null,
   "metadata": {},
   "outputs": [],
   "source": [
    "## Get low cloud and high cloud cre from FBCT\n",
    "def calc_fbct_cre(lw_flux_cld,lw_flux_clr,sw_flux_cld,sw_flux_clr,cld_frac):\n",
    "    # Get net DOWNWARD flux and then the climatological mean\n",
    "    net_flux_all = (-sw_flux_cld - lw_flux_cld).mean(dim='time')\n",
    "    net_flux_clr = (-sw_flux_clr - lw_flux_clr).mean(dim='time')\n",
    "\n",
    "    # Downsample the net DOWNWARD flux\n",
    "    net_flux_all_loRes = net_flux_all.interp(latitude=new_lat_medRes, longitude=new_lon_medRes)\n",
    "    net_flux_clr_loRes = net_flux_clr.interp(latitude=new_lat_medRes, longitude=new_lon_medRes)\n",
    "    \n",
    "    # Downsample the cloud fraction\n",
    "    cld_frac_loRes = cld_frac.interp(latitude=new_lat_medRes, longitude=new_lon_medRes)\n",
    "    cld_frac_anom = get_anomaly(cld_frac_loRes,1)\n",
    "    \n",
    "    # Finally, sum across p,tau bins to get monthly cloud radiative anomaly *** (R_pt - R_clr)*f'_pt ***\n",
    "    get_cre = get_mean_across_bins(net_flux_all_loRes,net_flux_clr_loRes,cld_frac_anom)\n",
    "    \n",
    "    return get_cre"
   ]
  },
  {
   "cell_type": "code",
   "execution_count": null,
   "metadata": {},
   "outputs": [],
   "source": [
    "## Get net cre, clear-sky, and all-sky from EBAF\n",
    "def calc_net_cre():\n",
    "    net_flux_cld = EBAF_flux.toa_net_all_mon\n",
    "    net_flux_clr = EBAF_flux.toa_net_clr_t_mon\n",
    "    \n",
    "    net_flux_cld_loRes = net_flux_cld.interp(latitude=new_lat_medRes, longitude=new_lon_medRes)\n",
    "    net_flux_clr_loRes = net_flux_clr.interp(latitude=new_lat_medRes, longitude=new_lon_medRes)\n",
    "    \n",
    "    net_cre_loRes = net_flux_cld_loRes - net_flux_clr_loRes\n",
    "    calc_net = get_anomaly(net_cre_loRes,1)\n",
    "    \n",
    "    return calc_net\n",
    "\n",
    "def calc_ebaf_rad_anom(data):\n",
    "    ebaf_rad_anom = get_anomaly(data,1)\n",
    "    ebaf_rad_anom_loRes = ebaf_rad_anom.interp(latitude=new_lat_medRes,longitude=new_lon_medRes)\n",
    "    \n",
    "    return ebaf_rad_anom_loRes"
   ]
  }
 ],
 "metadata": {
  "kernelspec": {
   "display_name": "Python 3 (ipykernel)",
   "language": "python",
   "name": "python3"
  },
  "language_info": {
   "codemirror_mode": {
    "name": "ipython",
    "version": 3
   },
   "file_extension": ".py",
   "mimetype": "text/x-python",
   "name": "python",
   "nbconvert_exporter": "python",
   "pygments_lexer": "ipython3",
   "version": "3.8.3"
  }
 },
 "nbformat": 4,
 "nbformat_minor": 4
}
