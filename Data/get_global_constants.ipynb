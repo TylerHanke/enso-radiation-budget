{
 "cells": [
  {
   "cell_type": "code",
   "execution_count": 1,
   "metadata": {},
   "outputs": [],
   "source": [
    "### Here, we will be loading and manipulating the core data that will be used for the remainder of the python\n",
    "### notebooks. Some of the variables defined here are\n",
    "###    -estimated inversion strength (EIS), \n",
    "###    -sea surface temperatures (SSTs), \n",
    "###    -horizontal temp advection (Tadv), \n",
    "###    -relative humidity at 700 hPa (RH700), \n",
    "###    -pressure vertical velocity at 700 hPa (w700), and\n",
    "###    -near surface wind speed (WS)\n",
    "###    -TOA fluxes"
   ]
  },
  {
   "cell_type": "code",
   "execution_count": 2,
   "metadata": {},
   "outputs": [],
   "source": [
    "##### LOAD FUNCTIONS NOTEBOOK AND LIBRARIES #####"
   ]
  },
  {
   "cell_type": "code",
   "execution_count": 6,
   "metadata": {},
   "outputs": [
    {
     "data": {
      "text/html": [
       "<style>.container { width:90% !important; }</style>"
      ],
      "text/plain": [
       "<IPython.core.display.HTML object>"
      ]
     },
     "metadata": {},
     "output_type": "display_data"
    }
   ],
   "source": [
    "# Import packages here\n",
    "import numpy as np\n",
    "import xarray as xr\n",
    "import pandas as pd\n",
    "import netCDF4 as nc\n",
    "\n",
    "import matplotlib as mpl\n",
    "import matplotlib.pyplot as plt\n",
    "import cartopy\n",
    "from cartopy import config\n",
    "import cartopy.crs as ccrs\n",
    "\n",
    "import climlab\n",
    "from sklearn.linear_model import LinearRegression\n",
    "import statsmodels.api as sm\n",
    "import warnings\n",
    "\n",
    "from IPython.core.display import display, HTML\n",
    "display(HTML(\"<style>.container { width:90% !important; }</style>\"))\n",
    "warnings.filterwarnings('ignore')\n",
    "%matplotlib inline"
   ]
  },
  {
   "cell_type": "code",
   "execution_count": 8,
   "metadata": {},
   "outputs": [],
   "source": [
    "## Make 5x5 degree lat,lon coords\n",
    "new_lat_loRes = np.arange(-87.5,90,5)\n",
    "new_lon_loRes = np.arange(0,360,5)\n",
    "\n",
    "new_lat_medRes = np.arange(-90,90,1)\n",
    "new_lon_medRes = np.arange(0,360,1)\n",
    "\n",
    "## Constants\n",
    "R_E = 6.738e6\n",
    "\n",
    "el_nino_yrs = [['2002','2003'],\n",
    "               ['2003','2004'],\n",
    "               ['2006','2007'],\n",
    "               ['2009','2010'],\n",
    "               ['2014','2015'],\n",
    "               ['2015','2016'],\n",
    "               ['2018','2019']]\n",
    "\n",
    "la_nina_yrs = [['2005','2006'],\n",
    "               ['2007','2008'],\n",
    "               ['2008','2009'],\n",
    "               ['2010','2011'],\n",
    "               ['2011','2012'],\n",
    "               ['2016','2017'],\n",
    "               ['2017','2018']]\n",
    "\n",
    "# Weights\n",
    "lat = np.arange(-90,90.25,.25)\n",
    "lat_xr = xr.DataArray(data = np.ones_like(lat), dims={'latitude':lat}, coords={'latitude':lat})\n",
    "weight = np.cos(np.deg2rad(lat_xr.latitude))"
   ]
  }
 ],
 "metadata": {
  "kernelspec": {
   "display_name": "Python 3 (ipykernel)",
   "language": "python",
   "name": "python3"
  },
  "language_info": {
   "codemirror_mode": {
    "name": "ipython",
    "version": 3
   },
   "file_extension": ".py",
   "mimetype": "text/x-python",
   "name": "python",
   "nbconvert_exporter": "python",
   "pygments_lexer": "ipython3",
   "version": "3.8.3"
  }
 },
 "nbformat": 4,
 "nbformat_minor": 4
}
