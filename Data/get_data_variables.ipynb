{
 "cells": [
  {
   "cell_type": "code",
   "execution_count": 1,
   "metadata": {},
   "outputs": [],
   "source": [
    "### Here, we will be loading and manipulating the core data that will be used for the remainder of the python\n",
    "### notebooks. Some of the variables defined here are\n",
    "###    -estimated inversion strength (EIS), \n",
    "###    -sea surface temperatures (SSTs), \n",
    "###    -horizontal temp advection (Tadv), \n",
    "###    -relative humidity at 700 hPa (RH700), \n",
    "###    -pressure vertical velocity at 700 hPa (w700), and\n",
    "###    -near surface wind speed (WS)\n",
    "###    -TOA fluxes"
   ]
  },
  {
   "cell_type": "code",
   "execution_count": 2,
   "metadata": {},
   "outputs": [],
   "source": [
    "##### LOAD FUNCTIONS NOTEBOOK AND LIBRARIES #####"
   ]
  },
  {
   "cell_type": "code",
   "execution_count": 3,
   "metadata": {},
   "outputs": [
    {
     "name": "stderr",
     "output_type": "stream",
     "text": [
      "/data/keeling/a/tjhanke2/miniconda3/lib/python3.8/site-packages/statsmodels/compat/pandas.py:65: FutureWarning: pandas.Int64Index is deprecated and will be removed from pandas in a future version. Use pandas.Index with the appropriate dtype instead.\n",
      "  from pandas import Int64Index as NumericIndex\n"
     ]
    },
    {
     "data": {
      "text/html": [
       "<style>.container { width:90% !important; }</style>"
      ],
      "text/plain": [
       "<IPython.core.display.HTML object>"
      ]
     },
     "metadata": {},
     "output_type": "display_data"
    }
   ],
   "source": [
    "# Import packages here\n",
    "import numpy as np\n",
    "import xarray as xr\n",
    "import pandas as pd\n",
    "import netCDF4 as nc\n",
    "\n",
    "import matplotlib as mpl\n",
    "import matplotlib.pyplot as plt\n",
    "import cartopy\n",
    "from cartopy import config\n",
    "import cartopy.crs as ccrs\n",
    "\n",
    "import climlab\n",
    "from sklearn.linear_model import LinearRegression\n",
    "import statsmodels.api as sm\n",
    "import warnings\n",
    "\n",
    "from IPython.core.display import display, HTML\n",
    "display(HTML(\"<style>.container { width:90% !important; }</style>\"))\n",
    "warnings.filterwarnings('ignore')\n",
    "%matplotlib inline"
   ]
  },
  {
   "cell_type": "code",
   "execution_count": 4,
   "metadata": {},
   "outputs": [
    {
     "data": {
      "text/html": [
       "<style>.container { width:90% !important; }</style>"
      ],
      "text/plain": [
       "<IPython.core.display.HTML object>"
      ]
     },
     "metadata": {},
     "output_type": "display_data"
    }
   ],
   "source": [
    "%run ./get_data_variables_fncs.ipynb\n",
    "%run ./get_global_constants.ipynb"
   ]
  },
  {
   "cell_type": "code",
   "execution_count": 5,
   "metadata": {},
   "outputs": [],
   "source": [
    "##### GET CCF VARIABLES #####"
   ]
  },
  {
   "cell_type": "code",
   "execution_count": 5,
   "metadata": {},
   "outputs": [],
   "source": [
    "## Load the ERA5 Data\n",
    "path = '/data/keeling/a/tjhanke2/enso-energy-budget/Data/raw_data/ERA5_data/'\n",
    "met_params = xr.open_mfdataset(path+'*.nc').load()"
   ]
  },
  {
   "cell_type": "code",
   "execution_count": 6,
   "metadata": {},
   "outputs": [],
   "source": [
    "## Expanded time domain\n",
    "T700 = met_params.t           # temp data at 700 hPa (K)\n",
    "T2m = met_params.t2m          # temp data at 2 m (K)\n",
    "SST = met_params.sst          # temp data at sea surface (K)\n",
    "U10 = met_params.u10.interp(latitude=new_lat_medRes,longitude=new_lon_medRes)  # horizontal vel at 10 m (m/s)\n",
    "V10 = met_params.v10.interp(latitude=new_lat_medRes,longitude=new_lon_medRes)  # meridional vel at 10 m (m/s)\n",
    "ws = met_params.si10          # wind vel at 10 m (m/s)\n",
    "RH700 = met_params.r          # rel humidity at 700 hPa (%)\n",
    "w700 = met_params.w * 864     # vert vel at 700 hPa (hPa/day)\n",
    "\n",
    "## Get EIS and Tadv\n",
    "EIS = climlab.thermo.EIS(T2m,T700)\n",
    "\n",
    "dSST_dlat = SST.interp(latitude=new_lat_medRes,longitude=new_lon_medRes).differentiate(coord='latitude',edge_order=2)\n",
    "dSST_dlon = SST.interp(latitude=new_lat_medRes,longitude=new_lon_medRes).differentiate(coord='longitude',edge_order=2)\n",
    "Tadv = ((-U10/(R_E*weight) * dSST_dlon) - (V10/R_E * dSST_dlat)) * 86400 * 180/np.pi"
   ]
  },
  {
   "cell_type": "code",
   "execution_count": 4,
   "metadata": {},
   "outputs": [],
   "source": [
    "## Slice the data to focus on the CERES interval (2002 - 2019)\n",
    "T700 = met_params.t.sel(time=slice('2002-07','2019'))           # temp data at 700 hPa (K)\n",
    "T2m = met_params.t2m.sel(time=slice('2002-07','2019'))          # temp data at 2 m (K)\n",
    "SST = met_params.sst.sel(time=slice('2002-07','2019'))          # temp data at sea surface (K)\n",
    "U10 = met_params.u10.sel(time=slice('2002-07','2019')).interp(latitude=new_lat_medRes,longitude=new_lon_medRes)  # horizontal vel at 10 m (m/s)\n",
    "V10 = met_params.v10.sel(time=slice('2002-07','2019')).interp(latitude=new_lat_medRes,longitude=new_lon_medRes)  # meridional vel at 10 m (m/s)\n",
    "ws = met_params.si10.sel(time=slice('2002-07','2019'))          # wind vel at 10 m (m/s)\n",
    "RH700 = met_params.r.sel(time=slice('2002-07','2019'))          # rel humidity at 700 hPa (%)\n",
    "w700 = met_params.w.sel(time=slice('2002-07','2019')) * 864     # vert vel at 700 hPa (hPa/day)\n",
    "\n",
    "## Get EIS and Tadv\n",
    "EIS = climlab.thermo.EIS(T2m,T700)\n",
    "\n",
    "dSST_dlat = SST.interp(latitude=new_lat_medRes,longitude=new_lon_medRes).differentiate(coord='latitude',edge_order=2)\n",
    "dSST_dlon = SST.interp(latitude=new_lat_medRes,longitude=new_lon_medRes).differentiate(coord='longitude',edge_order=2)\n",
    "Tadv = ((-U10/(R_E*weight) * dSST_dlon) - (V10/R_E * dSST_dlat)) * 86400 * 180/np.pi"
   ]
  },
  {
   "cell_type": "code",
   "execution_count": 8,
   "metadata": {},
   "outputs": [],
   "source": [
    "##### GET CERES DATASETS #####"
   ]
  },
  {
   "cell_type": "code",
   "execution_count": 9,
   "metadata": {},
   "outputs": [],
   "source": [
    "## Load CERES-FBCT\n",
    "path = '/data/keeling/a/tjhanke2/enso-energy-budget/Data/raw_data/CERES_data/'\n",
    "FBCT_flux = xr.merge([xr.open_mfdataset(path+'*.nc').sel(time=slice('2002-07','2019-12')),\n",
    "                      xr.open_mfdataset(path+'cloud_props/*.nc').sel(time=slice('2002-07','2019-12'))\n",
    "                    ]).load()\n",
    "FBCT_flux = FBCT_flux.rename({'lat':'latitude','lon':'longitude'})\n",
    "FBCT_flux['time'] = SST.time"
   ]
  },
  {
   "cell_type": "code",
   "execution_count": 10,
   "metadata": {},
   "outputs": [],
   "source": [
    "## Load CERES-EBAF\n",
    "path = '/data/keeling/a/tjhanke2/enso-energy-budget/Data/raw_data/CERES_data/ebaf/'\n",
    "EBAF_flux = xr.open_mfdataset(path+'*.nc').sel(time=slice('2002-07','2019-12')).load()\n",
    "EBAF_flux = EBAF_flux.rename({'lat':'latitude','lon':'longitude'})\n",
    "EBAF_flux['time'] = SST.time"
   ]
  },
  {
   "cell_type": "code",
   "execution_count": 14,
   "metadata": {},
   "outputs": [],
   "source": [
    "##### GET RADIATIVE KERNELS #####"
   ]
  },
  {
   "cell_type": "code",
   "execution_count": 11,
   "metadata": {},
   "outputs": [],
   "source": [
    "# Load CCF kernel from Ryan Scott's github\n",
    "kernel = xr.open_dataset('/data/keeling/a/tjhanke2/enso-energy-budget/Data/raw_data/CRE_kernel_data/Scott_Myers_meteorological_kernels_CERES-FBCT_ERA5.nc')\n",
    "clr_kernel = xr.open_dataset('/data/keeling/a/tjhanke2/enso-energy-budget/Data/raw_data/CLR_SKY_kernel_data/TOA_CloudSat_Kerns.nc', decode_times=False).interp(latitude=new_lat_medRes,longitude=new_lon_medRes).rename({'time':'month'})\n",
    "plevels = clr_kernel.plev.values\n",
    "\n",
    "# Shift lon from [-180,180] to [0,360]\n",
    "kernel_rolled = kernel.assign_coords(longitude=((kernel.longitude % 360) - 2.5)).roll(longitude=(kernel.dims['longitude'] // 2)).roll(longitude=180).sortby('longitude')"
   ]
  },
  {
   "cell_type": "code",
   "execution_count": 16,
   "metadata": {},
   "outputs": [],
   "source": [
    "##### BEGIN GETTING CALCULATED VARIABLES #####"
   ]
  },
  {
   "cell_type": "code",
   "execution_count": 7,
   "metadata": {
    "scrolled": true
   },
   "outputs": [],
   "source": [
    "## Get anomalies and low resolution versions\n",
    "SST_anom = get_anomaly(SST,1)\n",
    "EIS_anom = get_anomaly(EIS,1)\n",
    "Tadv_anom = get_anomaly(Tadv,1)\n",
    "RH700_anom = get_anomaly(RH700,1)\n",
    "w700_anom = get_anomaly(w700,1)\n",
    "ws_anom = get_anomaly(ws,1)\n",
    "\n",
    "# Downsample the CCFs\n",
    "SST_anom_medRes = SST_anom.interp(latitude=new_lat_medRes, longitude=new_lon_medRes)\n",
    "EIS_anom_medRes = EIS_anom.interp(latitude=new_lat_medRes, longitude=new_lon_medRes)\n",
    "Tadv_anom_medRes = Tadv_anom.interp(latitude=new_lat_medRes, longitude=new_lon_medRes)\n",
    "RH700_anom_medRes = RH700_anom.interp(latitude=new_lat_medRes, longitude=new_lon_medRes)\n",
    "w700_anom_medRes = w700_anom.interp(latitude=new_lat_medRes, longitude=new_lon_medRes)\n",
    "ws_anom_medRes = ws_anom.interp(latitude=new_lat_medRes, longitude=new_lon_medRes)\n",
    "\n",
    "SST_anom_loRes = SST_anom.interp(latitude=new_lat_loRes, longitude=new_lon_loRes)\n",
    "EIS_anom_loRes = EIS_anom.interp(latitude=new_lat_loRes, longitude=new_lon_loRes)\n",
    "Tadv_anom_loRes = Tadv_anom.interp(latitude=new_lat_loRes, longitude=new_lon_loRes)\n",
    "RH700_anom_loRes = RH700_anom.interp(latitude=new_lat_loRes, longitude=new_lon_loRes)\n",
    "w700_anom_loRes = w700_anom.interp(latitude=new_lat_loRes, longitude=new_lon_loRes)\n",
    "ws_anom_loRes = ws_anom.interp(latitude=new_lat_loRes, longitude=new_lon_loRes)\n",
    "\n",
    "# Store CCFs into dataset\n",
    "ccf_anom_loRes = xr.Dataset(data_vars={'SST_anom':SST_anom_loRes,\n",
    "                                       'EIS_anom':EIS_anom_loRes,\n",
    "                                       'Tadv_anom':Tadv_anom_loRes,\n",
    "                                       'RH700_anom':RH700_anom_loRes,\n",
    "                                       'w700_anom':w700_anom_loRes,\n",
    "                                       'ws_anom':ws_anom_loRes},\n",
    "                            coords={'latitude':new_lat_loRes,\n",
    "                                    'longitude':new_lon_loRes,\n",
    "                                    'time':SST_anom_loRes.time})\n",
    "\n",
    "ccf_anom_medRes = xr.Dataset(data_vars={'SST_anom':SST_anom_medRes,\n",
    "                                       'EIS_anom':EIS_anom_medRes,\n",
    "                                       'Tadv_anom':Tadv_anom_medRes,\n",
    "                                       'RH700_anom':RH700_anom_medRes,\n",
    "                                       'w700_anom':w700_anom_medRes,\n",
    "                                       'ws_anom':ws_anom_medRes},\n",
    "                            coords={'latitude':new_lat_medRes,\n",
    "                                    'longitude':new_lon_medRes,\n",
    "                                    'time':SST_anom_medRes.time})\n",
    "\n",
    "\n",
    "ccf_anom_hiRes = xr.Dataset(data_vars={'SST_anom':SST_anom,\n",
    "                                       'EIS_anom':EIS_anom,\n",
    "                                       'Tadv_anom':Tadv_anom,\n",
    "                                       'RH700_anom':RH700_anom,\n",
    "                                       'w700_anom':w700_anom,\n",
    "                                       'ws_anom':ws_anom},\n",
    "                            coords={'latitude':SST_anom.latitude,\n",
    "                                    'longitude':SST_anom.longitude,\n",
    "                                    'time':SST_anom.time})"
   ]
  },
  {
   "cell_type": "code",
   "execution_count": 24,
   "metadata": {},
   "outputs": [],
   "source": [
    "ccf_anom_medRes = xr.Dataset(data_vars={'SST_anom':SST_anom_medRes,\n",
    "                                       'EIS_anom':EIS_anom_medRes,\n",
    "                                       'Tadv_anom':Tadv_anom_medRes,\n",
    "                                       'RH700_anom':RH700_anom_medRes,\n",
    "                                       'w700_anom':w700_anom_medRes,\n",
    "                                       'ws_anom':ws_anom_medRes},\n",
    "                            coords={'latitude':new_lat_medRes,\n",
    "                                    'longitude':new_lon_medRes,\n",
    "                                    'time':SST_anom_medRes.time})"
   ]
  },
  {
   "cell_type": "code",
   "execution_count": 25,
   "metadata": {},
   "outputs": [],
   "source": [
    "## Save low resolution anomalies\n",
    "#ccf_anom_loRes.to_netcdf(path='/data/keeling/a/tjhanke2/enso-energy-budget/Data/processed_data/ccf_anom/expanded_domain/ccf_anom_lo_res_1979.nc', mode='w')\n",
    "\n",
    "## Save med resolution anomalies\n",
    "ccf_anom_medRes.to_netcdf(path='/data/keeling/a/tjhanke2/enso-energy-budget/Data/processed_data/ccf_anom/expanded_domain/ccf_anom_med_res_1979.nc', mode='w')\n",
    "\n",
    "## Save high resolution anomalies\n",
    "#ccf_anom_hiRes.to_netcdf(path='/data/keeling/a/tjhanke2/enso-energy-budget/Data/processed_data/ccf_anom/expanded_domain/ccf_anom_hi_res_1979.nc', mode='w')"
   ]
  },
  {
   "cell_type": "code",
   "execution_count": 23,
   "metadata": {},
   "outputs": [],
   "source": [
    "## Get nino3.4 region anomalies\n",
    "nino34 = SST_anom.sel(latitude=slice(5,-5),longitude=slice(190,240))\n",
    "nino34_mean = nino34.weighted(weight).mean(dim=('longitude','latitude'))\n",
    "nino34_rolling = nino34_mean.rolling(time=3,center=True).mean()\n",
    "\n",
    "## Get the nino3.4 composite indexer\n",
    "nino34 = xr.full_like(nino34_rolling,'none',dtype='U4')\n",
    "nino34[nino34_rolling >= 0.5] = 'nino'\n",
    "nino34[nino34_rolling <= -0.5] = 'nina'\n",
    "\n",
    "## Save nino3.4 index\n",
    "nino34_rolling.to_netcdf(path='/data/keeling/a/tjhanke2/enso-energy-budget/Data/processed_data/ccf_anom/expanded_domain/nino34_rolling_1979.nc')\n",
    "nino34.to_netcdf(path='/data/keeling/a/tjhanke2/enso-energy-budget/Data/processed_data/ccf_anom/expanded_domain/nino34_index_1979.nc')"
   ]
  },
  {
   "cell_type": "code",
   "execution_count": 14,
   "metadata": {},
   "outputs": [],
   "source": [
    "## Get CERES radiation anomalies\n",
    "loCld_cre_anom = calc_fbct_cre(FBCT_flux.toa_lw_cldtyp_mon.sel(press=slice(0.0,1.0)),FBCT_flux.toa_lw_clr_mon,\n",
    "                               FBCT_flux.toa_sw_cldtyp_mon.sel(press=slice(0.0,1.0)),FBCT_flux.toa_sw_clr_mon,\n",
    "                               FBCT_flux.cldarea_cldtyp_mon.sel(press=slice(0.0,1.0)) / 100)\n",
    "\n",
    "highCld_cre_anom = calc_fbct_cre(FBCT_flux.toa_lw_cldtyp_mon.sel(press=slice(2.0,6.0)),FBCT_flux.toa_lw_clr_mon,\n",
    "                                 FBCT_flux.toa_sw_cldtyp_mon.sel(press=slice(2.0,6.0)),FBCT_flux.toa_sw_clr_mon,\n",
    "                                 FBCT_flux.cldarea_cldtyp_mon.sel(press=slice(2.0,6.0)) / 100)\n",
    "\n",
    "net_cre_anom = calc_net_cre()\n",
    "\n",
    "clr_sky_anom = calc_ebaf_rad_anom(EBAF_flux.toa_net_clr_t_mon)\n",
    "\n",
    "all_sky_anom = calc_ebaf_rad_anom(EBAF_flux.toa_net_all_mon)\n",
    "\n",
    "# Store radiation into dataset\n",
    "ceres_anom_loRes = xr.Dataset(data_vars={'loCld_cre':loCld_cre_anom,\n",
    "                                         'highCld_cre':highCld_cre_anom,\n",
    "                                         'net_cre':net_cre_anom,\n",
    "                                         'clr_sky':clr_sky_anom,\n",
    "                                         'all_sky':all_sky_anom},\n",
    "                            coords={'latitude':new_lat_loRes,\n",
    "                                    'longitude':new_lon_loRes,\n",
    "                                    'time':all_sky_anom.time})\n",
    "\n",
    "## Save low resolution anomalies\n",
    "#ceres_anom_loRes.to_netcdf(path='/data/keeling/a/tjhanke2/enso-energy-budget/Data/processed_data/ceres_anom/ceres_anom_med_res.nc')"
   ]
  },
  {
   "cell_type": "code",
   "execution_count": 7,
   "metadata": {},
   "outputs": [],
   "source": [
    "## Get delta specific humidity (q) and delta T (atmos. temp.)\n",
    "# Load temperature and relative humidity data\n",
    "temp_data = xr.open_dataset('/data/keeling/a/cristi/a/data/ERA5/ERA5_mon_1979-2019_temp.nc').t.sel(level=plevels,time=slice('2002-07','2019')).rename({'level':'plev'})\n",
    "rh_data = xr.open_dataset('/data/keeling/a/cristi/a/data/ERA5/ERA5_mon_1979-2019_rh.nc').r.sel(level=plevels,time=slice('2002-07','2019')).rename({'level':'plev'})\n",
    "skin_temp_data = xr.open_dataset('/data/keeling/a/tjhanke2/enso-energy-budget/Data/raw_data/ERA5_data/ERA5_mon_1979-2019_skin_temp.nc').skt.sel(expver=1,time=slice('2002-07','2019'))\n",
    "del skin_temp_data['expver']\n",
    "\n",
    "# Get low resolution versions\n",
    "temp_data_loRes = temp_data.interp(latitude=new_lat_medRes,longitude=new_lon_medRes)\n",
    "skin_temp_data_loRes = skin_temp_data.interp(latitude=new_lat_medRes,longitude=new_lon_medRes)\n",
    "rh_data_loRes = rh_data.interp(latitude=new_lat_medRes,longitude=new_lon_medRes)\n",
    "\n",
    "# Use Clausius-Clapeyron and other met. relationships to get specific humidity\n",
    "e_sat = climlab.thermo.clausius_clapeyron(temp_data_loRes)\n",
    "e_sat_clim = climlab.thermo.clausius_clapeyron(temp_data_loRes.mean(dim='time'))\n",
    "e_sat_clim_1 = climlab.thermo.clausius_clapeyron(temp_data_loRes.mean(dim='time')+1)\n",
    "\n",
    "e = (rh_data_loRes/100) * e_sat\n",
    "e_clim = (rh_data_loRes.mean(dim='time')/100) * e_sat_clim\n",
    "e_clim_1 = (rh_data_loRes.mean(dim='time')/100) * e_sat_clim_1\n",
    "\n",
    "w = (e*287) / (461*(clr_kernel.plev-e))\n",
    "w_clim = (e_clim*287) / (461*(clr_kernel.plev-e_clim))\n",
    "w_clim_1 = (e_clim_1*287) / (461*(clr_kernel.plev-e_clim_1))\n",
    "\n",
    "q = w / (w+1)\n",
    "q_clim = w_clim / (w_clim+1)\n",
    "q_clim_1 = w_clim_1 / (w_clim_1+1)\n",
    "\n",
    "# Finally, get delta t,q\n",
    "del_atmt = get_anomaly(temp_data_loRes,1)\n",
    "del_skt = get_anomaly(skin_temp_data_loRes,1)\n",
    "del_t = xr.concat([del_skt.assign_coords({'plev':1013}),del_atmt],dim='plev')\n",
    "del_q = (np.log(q) - np.log(q_clim)) / (np.log(q_clim_1) - np.log(q_clim))"
   ]
  },
  {
   "cell_type": "code",
   "execution_count": 8,
   "metadata": {},
   "outputs": [],
   "source": [
    "## Get CLR SKY contributions to radiative anomalies using kernel decomposition\n",
    "# Radiation anomaly contributed by atmos. & skin temp.\n",
    "clr_kernel_t = xr.concat([clr_kernel.lwclr_ts.assign_coords({'plev':1013}),clr_kernel.lwclr_t],dim='plev')\n",
    "dR_anom_by_dT = get_mean_across_lev(clr_kernel_t,del_t)\n",
    "\n",
    "# Radiation anomaly contributed by specific humidity\n",
    "dR_anom_by_dq_lw = get_mean_across_lev(clr_kernel.lwclr_q,del_q)\n",
    "dR_anom_by_dq_sw = get_mean_across_lev(clr_kernel.swclr_q,del_q)\n",
    "\n",
    "# Radiation anomaly contributed by variable humidity\n",
    "dR_anom_by_dq_lw_fix = get_mean_across_lev(clr_kernel.lwclr_q,del_t.sel(plev=slice(1000,0)))\n",
    "dR_anom_by_dq_lw_var = dR_anom_by_dq_lw - dR_anom_by_dq_lw_fix\n",
    "\n",
    "# # Store radiation anomalies into dataset\n",
    "clr_sky_kernel_decomp = xr.Dataset(data_vars={'dR_anom_by_dT':dR_anom_by_dT,\n",
    "                                              'dR_anom_by_dq_lw':dR_anom_by_dq_lw,\n",
    "                                              'dR_anom_by_dq_sw':dR_anom_by_dq_sw,\n",
    "                                              'dR_anom_by_fixed_q':dR_anom_by_dq_lw_fix},\n",
    "                                   coords={'latitude':new_lat_medRes,\n",
    "                                           'longitude':new_lon_medRes,\n",
    "                                           'time':dR_anom_by_dT.time})\n",
    "\n",
    "# ## Save CCF CRE contributions\n",
    "# clr_sky_kernel_decomp.to_netcdf(path='/data/keeling/a/tjhanke2/enso-energy-budget/Data/processed_data/clr_sky_kernel_decomp/clr_sky_kernel_medRes_data.nc')"
   ]
  },
  {
   "cell_type": "code",
   "execution_count": 15,
   "metadata": {},
   "outputs": [],
   "source": [
    "## Get CCF contributions to low cloud CRE\n",
    "# Separate kernels into dR sensitivities\n",
    "dR_dSST   = kernel_rolled.dRdxi.sel(i=1.0) # dR/dSST\n",
    "dR_dEIS   = kernel_rolled.dRdxi.sel(i=2.0) # dR/dEIS\n",
    "dR_dTadv  = kernel_rolled.dRdxi.sel(i=3.0) # dR/dTadv\n",
    "dR_dRH700 = kernel_rolled.dRdxi.sel(i=4.0) # dR/dRH700\n",
    "dR_dw700  = kernel_rolled.dRdxi.sel(i=5.0) # dR/dw700\n",
    "dR_dws    = kernel_rolled.dRdxi.sel(i=6.0) # dR/dws\n",
    "\n",
    "# Normalize CCF anomalies, then get CRE contribution\n",
    "SST_anom_norm = SST_anom_loRes / kernel_rolled.sigma_xi.sel(i=1.0)\n",
    "SST_CRE = SST_anom_norm * dR_dSST\n",
    "del SST_CRE['i']\n",
    "\n",
    "EIS_anom_norm = EIS_anom_loRes / kernel_rolled.sigma_xi.sel(i=2.0)\n",
    "EIS_CRE = EIS_anom_norm * dR_dEIS\n",
    "del EIS_CRE['i']\n",
    "\n",
    "Tadv_anom_norm = Tadv_anom_loRes / kernel_rolled.sigma_xi.sel(i=3.0)\n",
    "Tadv_CRE = Tadv_anom_norm * dR_dTadv\n",
    "del Tadv_CRE['i']\n",
    "\n",
    "RH700_anom_norm = RH700_anom_loRes / kernel_rolled.sigma_xi.sel(i=4.0)\n",
    "RH700_CRE = RH700_anom_norm * dR_dRH700\n",
    "del RH700_CRE['i']\n",
    "\n",
    "w700_anom_norm = w700_anom_loRes / kernel_rolled.sigma_xi.sel(i=5.0)\n",
    "w700_CRE = w700_anom_norm * dR_dw700\n",
    "del w700_CRE['i']\n",
    "\n",
    "ws_anom_norm = ws_anom_loRes / kernel_rolled.sigma_xi.sel(i=6.0)\n",
    "ws_CRE = ws_anom_norm * dR_dws\n",
    "del ws_CRE['i']\n",
    "\n",
    "# Store CCFs into dataset\n",
    "ccf_cre_anom = xr.Dataset(data_vars={'SST_CRE':SST_CRE,\n",
    "                                     'EIS_CRE':EIS_CRE,\n",
    "                                     'Tadv_CRE':Tadv_CRE,\n",
    "                                     'RH700_CRE':RH700_CRE,\n",
    "                                     'w700_CRE':w700_CRE,\n",
    "                                     'ws_CRE':ws_CRE},\n",
    "                            coords={'latitude':new_lat_loRes,\n",
    "                                    'longitude':new_lon_loRes,\n",
    "                                    'time':SST_CRE.time})\n",
    "\n",
    "## Save CCF CRE contributions\n",
    "# ccf_cre_anom.to_netcdf(path='/data/keeling/a/tjhanke2/enso-energy-budget/Data/processed_data/ccf_cre_anom/ccf_cre_anom.nc')"
   ]
  },
  {
   "cell_type": "code",
   "execution_count": 14,
   "metadata": {},
   "outputs": [],
   "source": [
    "## Load CERES radiation anomaly dataset\n",
    "ceres_rad_anom = xr.open_dataset('/data/keeling/a/tjhanke2/enso-energy-budget/Data/processed_data/ceres_anom/ceres_anom_med_res.nc')\n",
    "\n",
    "loCld_cre_anom = ceres_rad_anom.loCld_cre\n",
    "highCld_cre_anom = ceres_rad_anom.highCld_cre\n",
    "net_cre_anom = ceres_rad_anom.net_cre\n",
    "clr_sky_anom = ceres_rad_anom.clr_sky\n",
    "all_sky_anom = ceres_rad_anom.all_sky\n",
    "\n",
    "## Load CCF anomaly dataset\n",
    "ccf_anom_medRes = xr.open_dataset('/data/keeling/a/tjhanke2/enso-energy-budget/Data/processed_data/ccf_anom/ccf_anom_med_res.nc')\n",
    "\n",
    "SST_anom_medRes = ccf_anom_medRes.SST_anom\n",
    "EIS_anom_medRes = ccf_anom_medRes.EIS_anom\n",
    "Tadv_anom_medRes = ccf_anom_medRes.Tadv_anom\n",
    "\n",
    "## Load CCF CRE radiation anomaly dataset\n",
    "ccf_cre_anom = xr.open_dataset('/data/keeling/a/tjhanke2/enso-energy-budget/Data/processed_data/ccf_cre_anom/ccf_cre_anom.nc')\n",
    "\n",
    "SST_CRE = ccf_cre_anom.SST_CRE\n",
    "EIS_CRE = ccf_cre_anom.EIS_CRE\n",
    "Tadv_CRE = ccf_cre_anom.Tadv_CRE\n",
    "\n",
    "## Load CLR SKY kernel decomp dataset\n",
    "clr_sky_kernel_decomp = xr.open_dataset('/data/keeling/a/tjhanke2/enso-energy-budget/Data/processed_data/clr_sky_kernel_decomp/clr_sky_kernel_medRes_data.nc')\n",
    "\n",
    "dR_anom_by_dT = clr_sky_kernel_decomp.dR_anom_by_dT.transpose('time','latitude','longitude')\n",
    "dR_anom_by_dq_lw = clr_sky_kernel_decomp.dR_anom_by_dq_lw.transpose('time','latitude','longitude')\n",
    "dR_anom_by_dq_sw = clr_sky_kernel_decomp.dR_anom_by_dq_sw.transpose('time','latitude','longitude')\n",
    "\n",
    "nino34_rolling = xr.open_dataset('/data/keeling/a/tjhanke2/enso-energy-budget/Data/processed_data/ccf_anom/nino3_4/nino34_rolling.nc').__xarray_dataarray_variable__"
   ]
  },
  {
   "cell_type": "code",
   "execution_count": 16,
   "metadata": {},
   "outputs": [],
   "source": [
    "## Transform variables from time dimension to lag dimension\n",
    "%run /data/keeling/a/tjhanke2/enso-energy-budget/Code/eof_analysis/get_lagged_regress.ipynb\n",
    "lag_list = range(-12,13)\n",
    "\n",
    "# CCFs\n",
    "SST_anom_lag = time2lag(nino34_rolling,SST_anom_medRes,lag_list)\n",
    "EIS_anom_lag = time2lag(nino34_rolling,EIS_anom_medRes,lag_list)\n",
    "Tadv_anom_lag = time2lag(nino34_rolling,Tadv_anom_medRes,lag_list)\n",
    "\n",
    "# # CERES\n",
    "all_sky_lag = time2lag(nino34_rolling,all_sky_anom,lag_list)\n",
    "clr_sky_lag = time2lag(nino34_rolling,clr_sky_anom,lag_list)\n",
    "net_cre_lag = time2lag(nino34_rolling,net_cre_anom,lag_list)\n",
    "loCld_cre_lag = time2lag(nino34_rolling,loCld_cre_anom,lag_list)\n",
    "highCld_cre_lag = time2lag(nino34_rolling,highCld_cre_anom,lag_list)\n",
    "\n",
    "# # CCF CRE\n",
    "SST_CRE_lag = time2lag(nino34_rolling,SST_CRE,lag_list)\n",
    "EIS_CRE_lag = time2lag(nino34_rolling,EIS_CRE,lag_list)\n",
    "Tadv_CRE_lag = time2lag(nino34_rolling,Tadv_CRE,lag_list)\n",
    "\n",
    "# CLR SKY KERNELS\n",
    "# dR_dT_lag = time2lag(nino34_rolling,dR_anom_by_dT,lag_list)\n",
    "# dR_dq_lw_lag = time2lag(nino34_rolling,dR_anom_by_dq_lw,lag_list)\n",
    "# dR_dq_sw_lag = time2lag(nino34_rolling,dR_anom_by_dq_sw,lag_list)\n",
    "\n",
    "# Store lagged variables into datasets\n",
    "ccf_lags = xr.Dataset(data_vars={'SST_anom_lag':SST_anom_lag,\n",
    "                                 'EIS_anom_lag':EIS_anom_lag,\n",
    "                                 'Tadv_anom_lag':Tadv_anom_lag},\n",
    "                            coords={'latitude':new_lat_medRes,\n",
    "                                    'longitude':new_lon_medRes,\n",
    "                                    'lag':SST_anom_lag.lag})\n",
    "\n",
    "ceres_lags = xr.Dataset(data_vars={'all_sky_lag':all_sky_lag,\n",
    "                                   'clr_sky_lag':clr_sky_lag,\n",
    "                                   'net_cre_lag':net_cre_lag,\n",
    "                                   'loCld_cre_lag':loCld_cre_lag,\n",
    "                                   'highCld_cre_lag':highCld_cre_lag},\n",
    "                            coords={'latitude':new_lat_medRes,\n",
    "                                    'longitude':new_lon_medRes,\n",
    "                                    'lag':all_sky_lag.lag})\n",
    "\n",
    "ccf_cre_lags = xr.Dataset(data_vars={'SST_CRE_lag':SST_CRE_lag,\n",
    "                                     'EIS_CRE_lag':EIS_CRE_lag,\n",
    "                                     'Tadv_CRE_lag':Tadv_CRE_lag},\n",
    "                            coords={'latitude':new_lat_loRes,\n",
    "                                    'longitude':new_lon_loRes,\n",
    "                                    'lag':SST_CRE_lag.lag})\n",
    "\n",
    "# clr_sky_lags = xr.Dataset(data_vars={'dR_dT_lag':dR_dT_lag,\n",
    "#                                      'dR_dq_lw_lag':dR_dq_lw_lag,\n",
    "#                                      'dR_dq_sw_lag':dR_dq_sw_lag},\n",
    "#                             coords={'latitude':new_lat_medRes,\n",
    "#                                     'longitude':new_lon_medRes,\n",
    "#                                     'lag':dR_dT_lag.lag})\n",
    "\n",
    "## Save CCF CRE contributions\n",
    "# ccf_lags.to_netcdf(path='/data/keeling/a/tjhanke2/enso-energy-budget/Data/processed_data/lagged_anoms/ccf_lags.nc')\n",
    "# ceres_lags.to_netcdf(path='/data/keeling/a/tjhanke2/enso-energy-budget/Data/processed_data/lagged_anoms/ceres_lags.nc')\n",
    "# ccf_cre_lags.to_netcdf(path='/data/keeling/a/tjhanke2/enso-energy-budget/Data/processed_data/lagged_anoms/ccf_cre_lags.nc')\n",
    "# clr_sky_lags.to_netcdf(path='/data/keeling/a/tjhanke2/enso-energy-budget/Data/processed_data/lagged_anoms/clr_sky_med_res_lags.nc')"
   ]
  },
  {
   "cell_type": "code",
   "execution_count": null,
   "metadata": {},
   "outputs": [],
   "source": [
    "ccf_lags.to_netcdf(path='/data/keeling/a/tjhanke2/enso-energy-budget/Data/processed_data/lagged_anoms_detrend/ccf_lags.nc')\n",
    "ceres_lags.to_netcdf(path='/data/keeling/a/tjhanke2/enso-energy-budget/Data/processed_data/lagged_anoms_detrend/ceres_lags.nc')\n",
    "ccf_cre_lags.to_netcdf(path='/data/keeling/a/tjhanke2/enso-energy-budget/Data/processed_data/lagged_anoms_detrend/ccf_cre_lags_new.nc')\n",
    "# clr_sky_lags.to_netcdf(path='/data/keeling/a/tjhanke2/enso-energy-budget/Data/processed_data/lagged_anoms_detrend/clr_sky_med_res_lags.nc')"
   ]
  }
 ],
 "metadata": {
  "kernelspec": {
   "display_name": "Python 3 (ipykernel)",
   "language": "python",
   "name": "python3"
  },
  "language_info": {
   "codemirror_mode": {
    "name": "ipython",
    "version": 3
   },
   "file_extension": ".py",
   "mimetype": "text/x-python",
   "name": "python",
   "nbconvert_exporter": "python",
   "pygments_lexer": "ipython3",
   "version": "3.8.3"
  }
 },
 "nbformat": 4,
 "nbformat_minor": 4
}
