{
 "cells": [
  {
   "cell_type": "code",
   "execution_count": null,
   "metadata": {},
   "outputs": [],
   "source": [
    "## Load CCF anomaly dataset\n",
    "ccf_anom_lag = xr.open_dataset('/data/keeling/a/tjhanke2/enso-energy-budget/Data/processed_data/lagged_anoms_detrend/ccf_lags.nc')\n",
    "ccf_anom_lag = ccf_anom_lag.squeeze('dim_1')\n",
    "\n",
    "SST_anom_lag = ccf_anom_lag.SST_anom_lag\n",
    "EIS_anom_lag = ccf_anom_lag.EIS_anom_lag\n",
    "Tadv_anom_lag = ccf_anom_lag.Tadv_anom_lag\n",
    "\n",
    "## Load CCF CRE radiation anomaly dataset\n",
    "ccf_cre_anom = xr.open_dataset('/data/keeling/a/tjhanke2/enso-energy-budget/Data/processed_data/lagged_anoms_detrend/ccf_cre_lags.nc')\n",
    "ccf_cre_anom = ccf_cre_anom.squeeze('dim_1')\n",
    "\n",
    "SST_CRE_lag = ccf_cre_anom.SST_CRE_lag\n",
    "EIS_CRE_lag = ccf_cre_anom.EIS_CRE_lag\n",
    "Tadv_CRE_lag = ccf_cre_anom.Tadv_CRE_lag"
   ]
  },
  {
   "cell_type": "code",
   "execution_count": null,
   "metadata": {},
   "outputs": [],
   "source": [
    "# Get CCF zonal and global means\n",
    "SST_anom_zonal = SST_anom_lag.mean(dim='longitude') * np.cos(np.deg2rad(new_lat_medRes))\n",
    "SST_anom_gm = SST_anom_lag.weighted(weight).mean(dim=('latitude','longitude'))\n",
    "\n",
    "EIS_anom_zonal = EIS_anom_lag.mean(dim='longitude') * np.cos(np.deg2rad(new_lat_medRes))\n",
    "EIS_anom_gm = EIS_anom_lag.weighted(weight).mean(dim=('latitude','longitude'))\n",
    "\n",
    "Tadv_anom_zonal = Tadv_anom_lag.mean(dim='longitude') * np.cos(np.deg2rad(new_lat_medRes))\n",
    "Tadv_anom_gm = Tadv_anom_lag.weighted(weight).mean(dim=('latitude','longitude'))"
   ]
  },
  {
   "cell_type": "code",
   "execution_count": 11,
   "metadata": {},
   "outputs": [],
   "source": [
    "# Get CCF CRE zonal and global means\n",
    "SST_CRE_zonal = SST_CRE_lag.mean(dim='longitude') * np.cos(np.deg2rad(new_lat_loRes))\n",
    "SST_CRE_gm = SST_CRE_lag.weighted(weight).mean(dim=('latitude','longitude'))\n",
    "\n",
    "EIS_CRE_zonal = EIS_CRE_lag.mean(dim='longitude') * np.cos(np.deg2rad(new_lat_loRes))\n",
    "EIS_CRE_gm = EIS_CRE_lag.weighted(weight).mean(dim=('latitude','longitude'))\n",
    "\n",
    "Tadv_CRE_zonal = Tadv_CRE_lag.mean(dim='longitude') * np.cos(np.deg2rad(new_lat_loRes))\n",
    "Tadv_CRE_gm = Tadv_CRE_lag.weighted(weight).mean(dim=('latitude','longitude'))"
   ]
  },
  {
   "cell_type": "code",
   "execution_count": null,
   "metadata": {},
   "outputs": [],
   "source": [
    "nino34_rolling = xr.open_dataset('/data/keeling/a/tjhanke2/enso-energy-budget/Data/processed_data/ccf_anom/nino3_4/nino34_rolling.nc').__xarray_dataarray_variable__"
   ]
  }
 ],
 "metadata": {
  "kernelspec": {
   "display_name": "Python 3 (ipykernel)",
   "language": "python",
   "name": "python3"
  },
  "language_info": {
   "codemirror_mode": {
    "name": "ipython",
    "version": 3
   },
   "file_extension": ".py",
   "mimetype": "text/x-python",
   "name": "python",
   "nbconvert_exporter": "python",
   "pygments_lexer": "ipython3",
   "version": "3.8.3"
  }
 },
 "nbformat": 4,
 "nbformat_minor": 4
}
