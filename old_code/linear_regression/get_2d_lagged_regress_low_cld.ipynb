{
 "cells": [
  {
   "cell_type": "code",
   "execution_count": null,
   "metadata": {},
   "outputs": [],
   "source": [
    "%run ./general_functions/get_lagged_regress.ipynb"
   ]
  },
  {
   "cell_type": "code",
   "execution_count": null,
   "metadata": {},
   "outputs": [],
   "source": [
    "# Now, calculate the lagged regressions for the CCFs\n",
    "# loCld_cre_2d_lr = lagged_regress(nino34_rolling,loCld_cre_anom,lag)\n",
    "# SST_CRE_2d_lr = lagged_regress(nino34_rolling,SST_CRE,lag)\n",
    "# EIS_CRE_2d_lr = lagged_regress(nino34_rolling,EIS_CRE,lag)\n",
    "# Tadv_CRE_2d_lr = lagged_regress(nino34_rolling,Tadv_CRE,lag)\n",
    "\n",
    "tot_loCld_cre_lag = SST_CRE_lag + EIS_CRE_lag + Tadv_CRE_lag"
   ]
  },
  {
   "cell_type": "code",
   "execution_count": null,
   "metadata": {},
   "outputs": [],
   "source": [
    "def get_2d_lr_plot_2(lag):\n",
    "    # Set up subplots figure with PlateCarree projection\n",
    "    fig, ax = plt.subplots(1, 5, figsize=(24,3), subplot_kw={'projection': ccrs.PlateCarree(central_longitude=180)}, dpi=100)\n",
    "    fig.tight_layout(w_pad=10)\n",
    "    \n",
    "    vmin = -3\n",
    "    vmax = 3\n",
    "\n",
    "    lin_title = ['Low Cloud CRE','Total Combined CRE Contributions','CRE by SST','CRE by EIS','CRE by Tadv']\n",
    "\n",
    "    # Plot Trends\n",
    "    cbar_data = loCld_cre_lag.sel(lag=lag).plot(ax=ax[0],transform=ccrs.PlateCarree(),cmap=plt.get_cmap('RdBu').reversed(),\n",
    "                           add_colorbar=False,vmin=vmin,vmax=vmax)\n",
    "    tot_loCld_cre_lag.sel(lag=lag).plot(ax=ax[1],transform=ccrs.PlateCarree(),cmap=plt.get_cmap('RdBu').reversed(),\n",
    "                           add_colorbar=False,vmin=vmin,vmax=vmax)\n",
    "    SST_CRE_lag.sel(lag=lag).plot(ax=ax[2],transform=ccrs.PlateCarree(),cmap=plt.get_cmap('RdBu').reversed(),\n",
    "                           add_colorbar=False,vmin=vmin,vmax=vmax)\n",
    "    EIS_CRE_lag.sel(lag=lag).plot(ax=ax[3],transform=ccrs.PlateCarree(),cmap=plt.get_cmap('RdBu').reversed(),\n",
    "                           add_colorbar=False,vmin=vmin,vmax=vmax)\n",
    "    Tadv_CRE_lag.sel(lag=lag).plot(ax=ax[4],transform=ccrs.PlateCarree(),cmap=plt.get_cmap('RdBu').reversed(),\n",
    "                           add_colorbar=False,vmin=vmin,vmax=vmax)\n",
    "\n",
    "     # Give each plot gridlines, coastlines, and block out continents\n",
    "    for i in np.arange(0,5,1):\n",
    "        ax[i].gridlines()\n",
    "        ax[i].coastlines()\n",
    "        ax[i].add_feature(cartopy.feature.LAND,zorder=100,facecolor='k',edgecolor='k')\n",
    "        ax[i].set_aspect('auto')\n",
    "        \n",
    "        if lag == lag_list[0]:\n",
    "            ax[i].set_title(lin_title[i], fontsize=20)\n",
    "        elif lag == lag_list[-1]:\n",
    "            cbar_ax = fig.add_axes([0.01, -0.1, 0.98, 0.05])\n",
    "            cbar = fig.colorbar(cbar_data, cax=cbar_ax, orientation='horizontal', extend='both')\n",
    "            cbar.ax.tick_params(labelsize=20)\n",
    "            cbar.set_label(label='$W/m^2/K$', size=20)\n",
    "            \n",
    "            ax[i].set_title(None)\n",
    "        else:\n",
    "            ax[i].set_title(None)\n",
    "    \n",
    "    fig.suptitle('Lag = ' + str(lag), y=0.7, x=-0.01, rotation='vertical', fontsize=20)\n",
    "        \n",
    "    path = '/data/keeling/a/tjhanke2/enso-energy-budget/Output/Plots/linear_regression/'\n",
    "    fig.savefig(path + 'radiation_regress_lag_' + str(lag) + '_loCld_mon.png', bbox_inches='tight')"
   ]
  }
 ],
 "metadata": {
  "kernelspec": {
   "display_name": "Python 3 (ipykernel)",
   "language": "python",
   "name": "python3"
  },
  "language_info": {
   "codemirror_mode": {
    "name": "ipython",
    "version": 3
   },
   "file_extension": ".py",
   "mimetype": "text/x-python",
   "name": "python",
   "nbconvert_exporter": "python",
   "pygments_lexer": "ipython3",
   "version": "3.8.3"
  }
 },
 "nbformat": 4,
 "nbformat_minor": 4
}
