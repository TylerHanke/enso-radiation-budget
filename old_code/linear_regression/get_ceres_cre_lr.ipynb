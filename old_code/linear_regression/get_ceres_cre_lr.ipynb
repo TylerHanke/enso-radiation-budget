{
 "cells": [
  {
   "cell_type": "code",
   "execution_count": null,
   "metadata": {},
   "outputs": [],
   "source": [
    "## Load CERES radiation anomaly dataset\n",
    "ceres_rad_anom = xr.open_dataset('/data/keeling/a/tjhanke2/enso-energy-budget/Data/processed_data/lagged_anoms_detrend/ceres_lags.nc')\n",
    "ceres_rad_anom = ceres_rad_anom.squeeze('dim_1')\n",
    "\n",
    "loCld_cre_lag = ceres_rad_anom.loCld_cre_lag\n",
    "highCld_cre_lag = ceres_rad_anom.highCld_cre_lag\n",
    "net_cre_lag = ceres_rad_anom.net_cre_lag\n",
    "clr_sky_lag = ceres_rad_anom.clr_sky_lag\n",
    "all_sky_lag = ceres_rad_anom.all_sky_lag"
   ]
  },
  {
   "cell_type": "code",
   "execution_count": null,
   "metadata": {},
   "outputs": [],
   "source": [
    "## Load CLR SKY kernel decomp dataset\n",
    "clr_sky_kernel_decomp = xr.open_dataset('/data/keeling/a/tjhanke2/enso-energy-budget/Data/processed_data/lagged_anoms_detrend/clr_sky_med_res_lags.nc')\n",
    "clr_sky_kernel_decomp = clr_sky_kernel_decomp.squeeze('dim_1')\n",
    "\n",
    "dR_dT_lag = clr_sky_kernel_decomp.dR_dT_lag.transpose('lag','latitude','longitude')\n",
    "dR_dq_lw_lag = clr_sky_kernel_decomp.dR_dq_lw_lag.transpose('lag','latitude','longitude')\n",
    "dR_dq_sw_lag = clr_sky_kernel_decomp.dR_dq_sw_lag.transpose('lag','latitude','longitude')"
   ]
  },
  {
   "cell_type": "code",
   "execution_count": null,
   "metadata": {},
   "outputs": [],
   "source": [
    "# Now, get the zonal mean\n",
    "net_cre_lag_zonal = net_cre_lag.mean(dim='longitude') * np.cos(np.deg2rad(new_lat_medRes))\n",
    "loCld_cre_lag_zonal = loCld_cre_lag.mean(dim='longitude') * np.cos(np.deg2rad(new_lat_medRes))\n",
    "highCld_cre_lag_zonal = highCld_cre_lag.mean(dim='longitude') * np.cos(np.deg2rad(new_lat_medRes))\n",
    "clr_sky_lag_zonal = clr_sky_lag.mean(dim='longitude') * np.cos(np.deg2rad(new_lat_medRes))\n",
    "all_sky_lag_zonal = all_sky_lag.mean(dim='longitude') * np.cos(np.deg2rad(new_lat_medRes))\n",
    "\n",
    "dR_dT_zonal = dR_dT_lag.mean(dim='longitude') * np.cos(np.deg2rad(new_lat_medRes))\n",
    "dR_dq_lw_zonal = dR_dq_lw_lag.mean(dim='longitude') * np.cos(np.deg2rad(new_lat_medRes))\n",
    "dR_dq_sw_zonal = dR_dq_sw_lag.mean(dim='longitude') * np.cos(np.deg2rad(new_lat_medRes))"
   ]
  },
  {
   "cell_type": "code",
   "execution_count": null,
   "metadata": {},
   "outputs": [],
   "source": [
    "# Now, get the global mean\n",
    "net_cre_lag_gm = net_cre_lag.weighted(weight).mean(dim=('longitude','latitude'))\n",
    "loCld_cre_lag_gm = loCld_cre_lag.weighted(weight).mean(dim=('longitude','latitude'))\n",
    "highCld_cre_lag_gm = highCld_cre_lag.weighted(weight).mean(dim=('longitude','latitude'))\n",
    "clr_sky_lag_gm = clr_sky_lag.weighted(weight).mean(dim=('longitude','latitude'))\n",
    "all_sky_lag_gm = all_sky_lag.weighted(weight).mean(dim=('longitude','latitude'))\n",
    "\n",
    "dR_dT_gm = dR_dT_lag.weighted(weight).mean(dim=('longitude','latitude'))\n",
    "dR_dq_lw_gm = dR_dq_lw_lag.weighted(weight).mean(dim=('longitude','latitude'))\n",
    "dR_dq_sw_gm = dR_dq_sw_lag.weighted(weight).mean(dim=('longitude','latitude'))"
   ]
  },
  {
   "cell_type": "code",
   "execution_count": null,
   "metadata": {},
   "outputs": [],
   "source": [
    "nino34_rolling = xr.open_dataset('/data/keeling/a/tjhanke2/enso-energy-budget/Data/processed_data/ccf_anom/nino3_4/nino34_rolling.nc').__xarray_dataarray_variable__"
   ]
  }
 ],
 "metadata": {
  "kernelspec": {
   "display_name": "Python 3 (ipykernel)",
   "language": "python",
   "name": "python3"
  },
  "language_info": {
   "codemirror_mode": {
    "name": "ipython",
    "version": 3
   },
   "file_extension": ".py",
   "mimetype": "text/x-python",
   "name": "python",
   "nbconvert_exporter": "python",
   "pygments_lexer": "ipython3",
   "version": "3.8.3"
  }
 },
 "nbformat": 4,
 "nbformat_minor": 4
}
