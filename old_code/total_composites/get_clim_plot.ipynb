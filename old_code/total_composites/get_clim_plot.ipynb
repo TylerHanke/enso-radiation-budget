{
 "cells": [
  {
   "cell_type": "code",
   "execution_count": 2,
   "metadata": {},
   "outputs": [],
   "source": [
    "# Climatologies\n",
    "SST_clim = SST.mean(dim='time')\n",
    "EIS_clim = EIS.mean(dim='time')\n",
    "RH700_clim = RH700.mean(dim='time')\n",
    "Tadv_clim = Tadv.mean(dim='time')\n",
    "w700_clim = w700.mean(dim='time')\n",
    "ws_clim = ws.mean(dim='time')"
   ]
  },
  {
   "cell_type": "code",
   "execution_count": 1,
   "metadata": {},
   "outputs": [],
   "source": [
    "def get_clim_plot():\n",
    "    # Set up subplots figure with PlateCarree projection\n",
    "    fig, ax = plt.subplots(3, 2, figsize=(18,12), subplot_kw={'projection': ccrs.PlateCarree(central_longitude=180)})\n",
    "    fig.tight_layout(w_pad=24)\n",
    "    \n",
    "    clim_title = [['SST','EIS'],\n",
    "                  ['Tadv','RH700'],\n",
    "                  ['w700', 'WS']]\n",
    "\n",
    "    # Give each plot gridlines, coastlines, and block out continents\n",
    "    for i in np.arange(0,3,1):\n",
    "        for j in np.arange(0,2,1):\n",
    "            ax[i,j].gridlines()\n",
    "            ax[i,j].coastlines()\n",
    "            ax[i,j].add_feature(cartopy.feature.LAND,zorder=100,facecolor='k',edgecolor='k')\n",
    "\n",
    "    # Plot climatologies\n",
    "    SST_clim.plot(ax=ax[0,0],transform=ccrs.PlateCarree(),cmap=plt.get_cmap('RdBu').reversed(),\n",
    "                           cbar_kwargs={'shrink': 0.7, 'label': 'K'},vmin=273,vmax=303)\n",
    "    EIS_clim.plot(ax=ax[0,1],transform=ccrs.PlateCarree(),cmap=plt.get_cmap('RdBu').reversed(),\n",
    "                           cbar_kwargs={'shrink': 0.7, 'label': 'K'},vmin=-8,vmax=8)\n",
    "    Tadv_clim.plot(ax=ax[1,0],transform=ccrs.PlateCarree(),cmap=plt.get_cmap('RdBu').reversed(),\n",
    "                            cbar_kwargs={'shrink': 0.7, 'label': 'K/day'},vmin=-2.5,vmax=2.5)\n",
    "    RH700_clim.plot(ax=ax[1,1],transform=ccrs.PlateCarree(),cmap=plt.get_cmap('RdBu').reversed(),\n",
    "                             cbar_kwargs={'shrink': 0.7, 'label': '%'},vmin=20,vmax=70)\n",
    "    w700_clim.plot(ax=ax[2,0],transform=ccrs.PlateCarree(),cmap=plt.get_cmap('RdBu').reversed(),\n",
    "                            cbar_kwargs={'shrink': 0.7, 'label': 'hPa/day'},vmin=-65,vmax=65)\n",
    "    ws_clim.plot(ax=ax[2,1],transform=ccrs.PlateCarree(),cmap=plt.get_cmap('RdBu').reversed(),\n",
    "                           cbar_kwargs={'shrink': 0.7, 'label': 'm/s'},vmin=4,vmax=12)\n",
    "    \n",
    "    # Give plots their titles\n",
    "    for i in np.arange(0,3,1):\n",
    "        for j in np.arange(0,2,1):\n",
    "            ax[i,j].set_title('Monthly Annual Climatology for ' + clim_title[i][j])"
   ]
  }
 ],
 "metadata": {
  "kernelspec": {
   "display_name": "Python 3 (ipykernel)",
   "language": "python",
   "name": "python3"
  },
  "language_info": {
   "codemirror_mode": {
    "name": "ipython",
    "version": 3
   },
   "file_extension": ".py",
   "mimetype": "text/x-python",
   "name": "python",
   "nbconvert_exporter": "python",
   "pygments_lexer": "ipython3",
   "version": "3.8.3"
  }
 },
 "nbformat": 4,
 "nbformat_minor": 4
}
