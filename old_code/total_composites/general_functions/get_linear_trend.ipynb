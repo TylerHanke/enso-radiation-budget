{
 "cells": [
  {
   "cell_type": "code",
   "execution_count": 9,
   "metadata": {},
   "outputs": [],
   "source": [
    "# Define a Linear Trend - if the mean of a time series changes over time, rather than get a simple mean (or try to\n",
    "# fit a horizontal line to the data), it would be more accurate to fit a linear trendline to the time series data.\n",
    "# This works for datasets with the local mean gradually changing over time.\n",
    "def linear_trend(y):\n",
    "    def trend_func(x):\n",
    "        if np.isnan(x).any():\n",
    "            return xr.DataArray(np.nan)                    # return nan values for nan regions\n",
    "        else:\n",
    "            t_points = np.linspace(0, 41, SST.shape[0])    # time points used for polyfit\n",
    "            poly = np.polyfit(t_points, x, 1)              # polyfit(x, y, degree)\n",
    "        \n",
    "            return xr.DataArray(poly[0])                   # must return DataArray\n",
    "    \n",
    "    stacked_lat_lon = y.stack(allpoints=['latitude','longitude'])    # stack lat, lon into new coords named allpoints\n",
    "    trend = stacked_lat_lon.groupby('allpoints').apply(trend_func)   # apply trend function on stacked coords\n",
    "    \n",
    "    return trend.unstack('allpoints')                  # return unstacked, linearized coords"
   ]
  }
 ],
 "metadata": {
  "kernelspec": {
   "display_name": "Python 3 (ipykernel)",
   "language": "python",
   "name": "python3"
  },
  "language_info": {
   "codemirror_mode": {
    "name": "ipython",
    "version": 3
   },
   "file_extension": ".py",
   "mimetype": "text/x-python",
   "name": "python",
   "nbconvert_exporter": "python",
   "pygments_lexer": "ipython3",
   "version": "3.8.3"
  }
 },
 "nbformat": 4,
 "nbformat_minor": 4
}
