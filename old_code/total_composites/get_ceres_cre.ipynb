{
 "cells": [
  {
   "cell_type": "code",
   "execution_count": 11,
   "metadata": {},
   "outputs": [],
   "source": [
    "# Load longwave and shortwave datasets\n",
    "loCld_lw_flux_cld = FBCT_flux.toa_lw_cldtyp_mon.sel(press=slice(0.0,1.0))\n",
    "loCld_lw_flux_clr = FBCT_flux.toa_lw_clr_mon\n",
    "loCld_sw_flux_cld = FBCT_flux.toa_sw_cldtyp_mon.sel(press=slice(0.0,1.0))\n",
    "loCld_sw_flux_clr = FBCT_flux.toa_sw_clr_mon\n",
    "\n",
    "# Get net DOWNWARD flux and then the climatological mean\n",
    "loCld_net_flux_all = (-loCld_sw_flux_cld - loCld_lw_flux_cld).mean(dim='time')\n",
    "loCld_net_flux_clr = (-loCld_sw_flux_clr - loCld_lw_flux_clr).mean(dim='time')\n",
    "\n",
    "# Now, downsample the data\n",
    "loCld_net_flux_all_loRes = loCld_net_flux_all.interp(latitude=new_lat, longitude=new_lon)\n",
    "loCld_net_flux_clr_loRes = loCld_net_flux_clr.interp(latitude=new_lat, longitude=new_lon)"
   ]
  },
  {
   "cell_type": "code",
   "execution_count": 16,
   "metadata": {},
   "outputs": [],
   "source": [
    "# Load the low cloud fraction\n",
    "loCld_frac = FBCT_flux.cldarea_cldtyp_mon.sel(press=slice(0.0,1.0)) / 100\n",
    "\n",
    "# Next, downsample\n",
    "loCld_frac_loRes = loCld_frac.interp(latitude=new_lat, longitude=new_lon)\n",
    "\n",
    "loCld_frac_anom = get_anomaly(loCld_frac_loRes)\n",
    "loCld_frac_enso = composite(loCld_frac_anom)"
   ]
  },
  {
   "cell_type": "code",
   "execution_count": 39,
   "metadata": {
    "scrolled": false
   },
   "outputs": [],
   "source": [
    "# Finally, get monthly low-cloud radiative anomaly for enso yrs *** (R_pt - R_clr)*f'_pt ***\n",
    "loCld_cre = get_mean_across_bins(loCld_net_flux_all_loRes,loCld_net_flux_clr_loRes,loCld_frac_enso)"
   ]
  },
  {
   "cell_type": "code",
   "execution_count": 43,
   "metadata": {},
   "outputs": [],
   "source": [
    "def get_ceres_cre():\n",
    "    # Set up subplots figure with PlateCarree projection\n",
    "    fig, ax = plt.subplots(2,figsize=(12,6), subplot_kw={'projection': ccrs.PlateCarree(central_longitude=180)})\n",
    "    fig.tight_layout(h_pad=6)\n",
    "\n",
    "    # Give each plot gridlines, coastlines, and block out continents\n",
    "    for i in np.arange(0,2,1):\n",
    "        ax[i].gridlines()\n",
    "        ax[i].coastlines()\n",
    "        ax[i].add_feature(cartopy.feature.LAND,zorder=100,facecolor='k',edgecolor='k')\n",
    "\n",
    "    # Plot Trends\n",
    "    loCld_cre.sel(nino34='nino').plot(ax=ax[0],transform=ccrs.PlateCarree(),cmap=plt.get_cmap('RdBu').reversed(),\n",
    "                           cbar_kwargs={'shrink': 0.9},vmin=-5,vmax=5)\n",
    "    ax[0].set_title('CERES Low Cloud CRE Anomaly - El Nino')\n",
    "    \n",
    "    loCld_cre.sel(nino34='nina').plot(ax=ax[1],transform=ccrs.PlateCarree(),cmap=plt.get_cmap('RdBu').reversed(),\n",
    "                           cbar_kwargs={'shrink': 0.9})#,vmin=-.1,vmax=.1)\n",
    "    ax[1].set_title('CERES Low Cloud CRE Anomaly - La Nina')"
   ]
  }
 ],
 "metadata": {
  "kernelspec": {
   "display_name": "Python 3 (ipykernel)",
   "language": "python",
   "name": "python3"
  },
  "language_info": {
   "codemirror_mode": {
    "name": "ipython",
    "version": 3
   },
   "file_extension": ".py",
   "mimetype": "text/x-python",
   "name": "python",
   "nbconvert_exporter": "python",
   "pygments_lexer": "ipython3",
   "version": "3.8.3"
  }
 },
 "nbformat": 4,
 "nbformat_minor": 4
}
