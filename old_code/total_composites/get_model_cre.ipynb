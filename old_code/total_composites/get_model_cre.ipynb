{
 "cells": [
  {
   "cell_type": "code",
   "execution_count": null,
   "metadata": {},
   "outputs": [],
   "source": [
    "# Check if get_enso_composites hasn't been run - if not, run to get enso variables\n",
    "if plot_enso_composites == 0:\n",
    "    %run ./get_enso_composites.ipynb"
   ]
  },
  {
   "cell_type": "code",
   "execution_count": null,
   "metadata": {},
   "outputs": [],
   "source": [
    "# Load CCF kernel from Ryan Scott's github\n",
    "kernel = xr.open_dataset('/data/keeling/a/tjhanke2/enso-energy-budget/Data/raw_data/CRE_kernel_data/Scott_Myers_meteorological_kernels_CERES-FBCT_ERA5.nc')\n",
    "\n",
    "# Shift lon from [-180,180] to [0,360]\n",
    "kernel_rolled = kernel.assign_coords(longitude=((kernel.longitude % 360) - 2.5)).roll(longitude=(kernel.dims['longitude'] // 2))"
   ]
  },
  {
   "cell_type": "code",
   "execution_count": null,
   "metadata": {},
   "outputs": [],
   "source": [
    "# Downsample the CCF composites\n",
    "SST_en_loRes   = SST_enso / kernel_rolled.sigma_xi.sel(i=1.0)\n",
    "EIS_en_loRes   = EIS_enso / kernel_rolled.sigma_xi.sel(i=2.0)\n",
    "Tadv_en_loRes  = Tadv_enso / kernel_rolled.sigma_xi.sel(i=3.0)\n",
    "RH700_en_loRes = RH700_enso / kernel_rolled.sigma_xi.sel(i=4.0)\n",
    "w700_en_loRes  = w700_enso / kernel_rolled.sigma_xi.sel(i=5.0)\n",
    "ws_en_loRes    = ws_enso / kernel_rolled.sigma_xi.sel(i=6.0)"
   ]
  },
  {
   "cell_type": "code",
   "execution_count": null,
   "metadata": {},
   "outputs": [],
   "source": [
    "# Separate kernels into dR sensitivities\n",
    "dR_dSST   = kernel_rolled.dRdxi.sel(i=1.0) # dR/dSST\n",
    "dR_dEIS   = kernel_rolled.dRdxi.sel(i=2.0) # dR/dEIS\n",
    "dR_dTadv  = kernel_rolled.dRdxi.sel(i=3.0) # dR/dTadv\n",
    "dR_dRH700 = kernel_rolled.dRdxi.sel(i=4.0) # dR/dRH700\n",
    "dR_dw700  = kernel_rolled.dRdxi.sel(i=5.0) # dR/dw700\n",
    "dR_dws    = kernel_rolled.dRdxi.sel(i=6.0) # dR/dws"
   ]
  },
  {
   "cell_type": "code",
   "execution_count": null,
   "metadata": {},
   "outputs": [],
   "source": [
    "# Now get low cloud radiative effect\n",
    "CRE_SST   = dR_dSST * SST_en_loRes\n",
    "CRE_EIS   = dR_dEIS * EIS_en_loRes\n",
    "CRE_Tadv  = dR_dTadv * Tadv_en_loRes\n",
    "CRE_RH700 = dR_dRH700 * RH700_en_loRes\n",
    "CRE_w700  = dR_dw700 * w700_en_loRes\n",
    "CRE_ws    = dR_dws * ws_en_loRes\n",
    "CRE_TOT   = (CRE_SST.fillna(0) + CRE_EIS.fillna(0) + CRE_Tadv.fillna(0) + \n",
    "             CRE_ws.fillna(0) + CRE_RH700.fillna(0) + CRE_w700.fillna(0))"
   ]
  },
  {
   "cell_type": "code",
   "execution_count": null,
   "metadata": {},
   "outputs": [],
   "source": [
    "def get_model_cre():\n",
    "    # Set up subplots figure with PlateCarree projection\n",
    "    fig, ax = plt.subplots(4, 2, figsize=(18,12), \n",
    "                           subplot_kw={'projection': ccrs.PlateCarree(central_longitude=180)})\n",
    "    fig.tight_layout(w_pad=6,h_pad=5)\n",
    "    \n",
    "    # Title list\n",
    "    enso_cre_title = [['SST','EIS'],\n",
    "                      ['Tadv','RH700'],\n",
    "                      ['w700','WS'],\n",
    "                      ['ALL CCFs','none']]\n",
    "    \n",
    "    vmin1 = -2\n",
    "    vmax1 = 2\n",
    "    vmin2 = -0.5\n",
    "    vmax2 = 0.5\n",
    "    vmin3 = -0.05\n",
    "    vmax3 = 0.05\n",
    "\n",
    "    # Give each plot gridlines, coastlines, and block out continents\n",
    "    for i in np.arange(0,4,1):\n",
    "        for j in np.arange(0,2,1):\n",
    "            ax[i,j].gridlines()\n",
    "            ax[i,j].coastlines()\n",
    "            ax[i,j].add_feature(cartopy.feature.LAND,zorder=100,facecolor='k',edgecolor='k')\n",
    "\n",
    "    # SST CRE\n",
    "    CRE_SST.sel(nino34='nino').plot(ax=ax[0,0],transform=ccrs.PlateCarree(),\n",
    "                                    cmap=plt.get_cmap('RdBu').reversed(),cbar_kwargs={'shrink': 0.9,'label': 'W/m**2'},\n",
    "                                    vmin=vmin1,vmax=vmax1)\n",
    "    # EIS\n",
    "    CRE_EIS.sel(nino34='nino').plot(ax=ax[0,1],transform=ccrs.PlateCarree(),\n",
    "                                    cmap=plt.get_cmap('RdBu').reversed(),cbar_kwargs={'shrink': 0.9,'label': 'W/m**2'},\n",
    "                                    vmin=vmin1,vmax=vmax1)\n",
    "    # Tadv\n",
    "    CRE_Tadv.sel(nino34='nino').plot(ax=ax[1,0],transform=ccrs.PlateCarree(),\n",
    "                                     cmap=plt.get_cmap('RdBu').reversed(),cbar_kwargs={'shrink': 0.9,'label': 'W/m**2'},\n",
    "                                     vmin=vmin1,vmax=vmax1)\n",
    "    # RH700\n",
    "    CRE_RH700.sel(nino34='nino').plot(ax=ax[1,1],transform=ccrs.PlateCarree(),\n",
    "                                      cmap=plt.get_cmap('RdBu').reversed(),cbar_kwargs={'shrink': 0.9,'label': 'W/m**2'},\n",
    "                                      vmin=-0.2,vmax=0.2)\n",
    "    # w700\n",
    "    CRE_w700.sel(nino34='nino').plot(ax=ax[2,0],transform=ccrs.PlateCarree(),\n",
    "                                     cmap=plt.get_cmap('RdBu').reversed(),cbar_kwargs={'shrink': 0.9,'label': 'W/m**2'},\n",
    "                                     vmin=vmin3,vmax=vmax3)\n",
    "    # ws\n",
    "    CRE_ws.sel(nino34='nino').plot(ax=ax[2,1],transform=ccrs.PlateCarree(),\n",
    "                                   cmap=plt.get_cmap('RdBu').reversed(),cbar_kwargs={'shrink': 0.9,'label': 'W/m**2'},\n",
    "                                   vmin=vmin2,vmax=vmax2)\n",
    "    # total\n",
    "    CRE_TOT.sel(nino34='nino').plot(ax=ax[3,0],transform=ccrs.PlateCarree(),\n",
    "                                    cmap=plt.get_cmap('RdBu').reversed(),cbar_kwargs={'shrink': 0.9,'label': 'W/m**2'},\n",
    "                                    vmin=vmin1,vmax=vmax1)\n",
    "    \n",
    "    ax[3,1].set_visible(False)\n",
    "    \n",
    "    # Give plots their titles\n",
    "    for i in np.arange(0,4,1):\n",
    "        for j in np.arange(0,2,1):\n",
    "            ax[i,j].set_title('El Nino Low Cloud CRE Anomaly - Contribution From ' + enso_cre_title[i][j])"
   ]
  }
 ],
 "metadata": {
  "kernelspec": {
   "display_name": "Python 3 (ipykernel)",
   "language": "python",
   "name": "python3"
  },
  "language_info": {
   "codemirror_mode": {
    "name": "ipython",
    "version": 3
   },
   "file_extension": ".py",
   "mimetype": "text/x-python",
   "name": "python",
   "nbconvert_exporter": "python",
   "pygments_lexer": "ipython3",
   "version": "3.8.3"
  }
 },
 "nbformat": 4,
 "nbformat_minor": 4
}
