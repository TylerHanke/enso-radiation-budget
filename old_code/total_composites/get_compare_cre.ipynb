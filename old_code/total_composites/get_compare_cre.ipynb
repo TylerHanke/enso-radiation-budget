{
 "cells": [
  {
   "cell_type": "code",
   "execution_count": null,
   "metadata": {},
   "outputs": [],
   "source": [
    "# Run ceres cre code if haven't already\n",
    "if plot_ceres_cre == 0: \n",
    "    %run ./get_ceres_cre.ipynb"
   ]
  },
  {
   "cell_type": "code",
   "execution_count": null,
   "metadata": {},
   "outputs": [],
   "source": [
    "# Run model cre code if haven't already\n",
    "if plot_model_cre == 0:\n",
    "    %run ./get_model_cre.ipynb"
   ]
  },
  {
   "cell_type": "code",
   "execution_count": null,
   "metadata": {},
   "outputs": [],
   "source": [
    "# Get difference between ceres and model cre, then plot in one output\n",
    "diff = loCld_cre - CRE_TOT"
   ]
  },
  {
   "cell_type": "code",
   "execution_count": null,
   "metadata": {},
   "outputs": [],
   "source": [
    "def get_compare_cre():\n",
    "    # Set up subplots figure with PlateCarree projection\n",
    "    fig, ax = plt.subplots(3,figsize=(18,12), subplot_kw={'projection': ccrs.PlateCarree(central_longitude=180)})\n",
    "    fig.tight_layout(h_pad=6)\n",
    "\n",
    "    # Give each plot gridlines, coastlines, and block out continents\n",
    "    for i in np.arange(0,3,1):\n",
    "        ax[i].gridlines()\n",
    "        ax[i].coastlines()\n",
    "        ax[i].add_feature(cartopy.feature.LAND,zorder=100,facecolor='k',edgecolor='k')\n",
    "\n",
    "    # Plot Trends\n",
    "    loCld_cre.sel(nino34='nino').plot(ax=ax[0],transform=ccrs.PlateCarree(),cmap=plt.get_cmap('RdBu').reversed(),\n",
    "                           cbar_kwargs={'shrink': 0.9},vmin=-5,vmax=5)\n",
    "    ax[0].set_title('CERES Low Cloud CRE Anomaly - El Nino')\n",
    "    \n",
    "    CRE_TOT.sel(nino34='nino').plot(ax=ax[1],transform=ccrs.PlateCarree(),cmap=plt.get_cmap('RdBu').reversed(),\n",
    "                           cbar_kwargs={'shrink': 0.9},vmin=-5,vmax=5)\n",
    "    ax[1].set_title('Model Low Cloud CRE Anomaly - El Nino')\n",
    "    \n",
    "    diff.sel(nino34='nino').plot(ax=ax[2],transform=ccrs.PlateCarree(),cmap=plt.get_cmap('RdBu').reversed(),\n",
    "                           cbar_kwargs={'shrink': 0.9},vmin=-5,vmax=5)\n",
    "    ax[2].set_title('CERES - Model CRE Difference')"
   ]
  }
 ],
 "metadata": {
  "kernelspec": {
   "display_name": "Python 3",
   "language": "python",
   "name": "python3"
  },
  "language_info": {
   "codemirror_mode": {
    "name": "ipython",
    "version": 3
   },
   "file_extension": ".py",
   "mimetype": "text/x-python",
   "name": "python",
   "nbconvert_exporter": "python",
   "pygments_lexer": "ipython3",
   "version": "3.8.3"
  }
 },
 "nbformat": 4,
 "nbformat_minor": 4
}
