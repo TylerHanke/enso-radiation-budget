{
 "cells": [
  {
   "cell_type": "code",
   "execution_count": null,
   "metadata": {},
   "outputs": [],
   "source": [
    "%run ./general_functions/get_linear_trend.ipynb"
   ]
  },
  {
   "cell_type": "code",
   "execution_count": null,
   "metadata": {},
   "outputs": [],
   "source": [
    "# Downsample the CCF composites (ENSO CODE)\n",
    "SST_loRes = SST.interp(latitude=new_lat, longitude=new_lon)\n",
    "EIS_loRes = EIS.interp(latitude=new_lat, longitude=new_lon)\n",
    "Tadv_loRes = Tadv.interp(latitude=new_lat, longitude=new_lon)\n",
    "RH700_loRes = RH700.interp(latitude=new_lat, longitude=new_lon)\n",
    "w700_loRes = w700.interp(latitude=new_lat, longitude=new_lon)\n",
    "ws_loRes = ws.interp(latitude=new_lat, longitude=new_lon) "
   ]
  },
  {
   "cell_type": "code",
   "execution_count": null,
   "metadata": {},
   "outputs": [],
   "source": [
    "# Now, calculate the linear trends for the CCFs\n",
    "SST_trend = linear_trend(SST_loRes) # has nan values\n",
    "EIS_trend = linear_trend(EIS_loRes)\n",
    "Tadv_trend = linear_trend(Tadv_loRes) # has nan values\n",
    "RH700_trend = linear_trend(RH700_loRes)\n",
    "w700_trend = linear_trend(w700_loRes)\n",
    "ws_trend = linear_trend(ws_loRes)"
   ]
  },
  {
   "cell_type": "code",
   "execution_count": null,
   "metadata": {
    "scrolled": false
   },
   "outputs": [],
   "source": [
    "def get_trend_plot():\n",
    "    # Set up subplots figure with PlateCarree projection\n",
    "    fig, ax = plt.subplots(3, 2, figsize=(18,12), subplot_kw={'projection': ccrs.PlateCarree(central_longitude=180)})\n",
    "    fig.tight_layout(w_pad=24)\n",
    "    \n",
    "    lin_title = [['SST','EIS'],\n",
    "                 ['Tadv','RH700'],\n",
    "                 ['w700', 'WS']]\n",
    "\n",
    "    # Give each plot gridlines, coastlines, and block out continents\n",
    "    for i in np.arange(0,3,1):\n",
    "        for j in np.arange(0,2,1):\n",
    "            ax[i,j].gridlines()\n",
    "            ax[i,j].coastlines()\n",
    "            ax[i,j].add_feature(cartopy.feature.LAND,zorder=100,facecolor='k',edgecolor='k')\n",
    "\n",
    "    # Plot Trends\n",
    "    SST_trend.plot(ax=ax[0,0],transform=ccrs.PlateCarree(),cmap=plt.get_cmap('RdBu').reversed(),\n",
    "                           cbar_kwargs={'shrink': 0.7},vmin=-0.05,vmax=0.05)\n",
    "    EIS_trend.plot(ax=ax[0,1],transform=ccrs.PlateCarree(),cmap=plt.get_cmap('RdBu').reversed(),\n",
    "                           cbar_kwargs={'shrink': 0.7},vmin=-0.05,vmax=0.05)\n",
    "    Tadv_trend.plot(ax=ax[1,0],transform=ccrs.PlateCarree(),cmap=plt.get_cmap('RdBu').reversed(),\n",
    "                           cbar_kwargs={'shrink': 0.7},vmin=-.1,vmax=.1)\n",
    "    RH700_trend.plot(ax=ax[1,1],transform=ccrs.PlateCarree(),cmap=plt.get_cmap('RdBu').reversed(),\n",
    "                             cbar_kwargs={'shrink': 0.7},vmin=-0.2,vmax=0.2)\n",
    "    w700_trend.plot(ax=ax[2,0],transform=ccrs.PlateCarree(),cmap=plt.get_cmap('RdBu').reversed(),\n",
    "                            cbar_kwargs={'shrink': 0.7},vmin=-1,vmax=1)\n",
    "    ws_trend.plot(ax=ax[2,1],transform=ccrs.PlateCarree(),cmap=plt.get_cmap('RdBu').reversed(),\n",
    "                           cbar_kwargs={'shrink': 0.7},vmin=-0.03,vmax=0.03)\n",
    "    \n",
    "    # Give plots their titles\n",
    "    for i in np.arange(0,3,1):\n",
    "        for j in np.arange(0,2,1):\n",
    "            ax[i,j].set_title('Linear Trendline Plot for ' + lin_title[i][j])"
   ]
  },
  {
   "cell_type": "code",
   "execution_count": null,
   "metadata": {},
   "outputs": [],
   "source": []
  }
 ],
 "metadata": {
  "kernelspec": {
   "display_name": "Python 3 (ipykernel)",
   "language": "python",
   "name": "python3"
  },
  "language_info": {
   "codemirror_mode": {
    "name": "ipython",
    "version": 3
   },
   "file_extension": ".py",
   "mimetype": "text/x-python",
   "name": "python",
   "nbconvert_exporter": "python",
   "pygments_lexer": "ipython3",
   "version": "3.8.3"
  }
 },
 "nbformat": 4,
 "nbformat_minor": 4
}
