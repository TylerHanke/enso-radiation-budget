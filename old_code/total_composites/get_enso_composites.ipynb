{
 "cells": [
  {
   "cell_type": "code",
   "execution_count": null,
   "metadata": {},
   "outputs": [],
   "source": [
    "# Open CCF anomaly data\n",
    "path = '/data/keeling/a/tjhanke2/enso-energy-budget/Data/processed_data/ccf_anom_lo_res/'\n",
    "ccf_anoms = xr.open_dataset(path+'ccf_anom_lo_res.nc')"
   ]
  },
  {
   "cell_type": "code",
   "execution_count": 12,
   "metadata": {},
   "outputs": [],
   "source": [
    "# Composite CCFs onto el nino yrs using the nino3.4 index\n",
    "# SST\n",
    "SST_enso = composite(ccf_anoms.SST_anom)\n",
    "\n",
    "# EIS\n",
    "EIS_enso = composite(ccf_anoms.EIS_anom)\n",
    "\n",
    "# Tadv\n",
    "Tadv_enso = composite(ccf_anoms.Tadv_anom)\n",
    "\n",
    "# RH700\n",
    "RH700_enso = composite(ccf_anoms.RH700_anom)\n",
    "\n",
    "# w700\n",
    "w700_enso = composite(ccf_anoms.w700_anom)\n",
    "\n",
    "# ws\n",
    "ws_enso = composite(ccf_anoms.ws_anom)"
   ]
  },
  {
   "cell_type": "code",
   "execution_count": 13,
   "metadata": {
    "scrolled": false
   },
   "outputs": [],
   "source": [
    "def get_enso_composites():\n",
    "    # Set up subplots figure with PlateCarree projection\n",
    "    fig, ax = plt.subplots(3, 2, figsize=(45,24),\n",
    "                           subplot_kw={'projection': ccrs.PlateCarree(central_longitude=180)})\n",
    "    fig.tight_layout(w_pad=16,h_pad=5)\n",
    "\n",
    "    # Title list for plots\n",
    "    enso_comp_title = [['SST','EIS'],\n",
    "                       ['Tadv','RH700'],\n",
    "                       ['w700','WS']]\n",
    "    \n",
    "    # Give each plot gridlines, coastlines, and block out continents\n",
    "    for i in np.arange(0,3,1):\n",
    "        for j in np.arange(0,2,1):\n",
    "            ax[i,j].gridlines()\n",
    "            ax[i,j].coastlines()\n",
    "            ax[i,j].add_feature(cartopy.feature.LAND,zorder=100,facecolor='k',edgecolor='k')\n",
    "\n",
    "    # SST\n",
    "    SST_enso.sel(nino34='nino').plot(ax=ax[0,0],transform=ccrs.PlateCarree(),\n",
    "                                     cmap=plt.get_cmap('RdBu').reversed(),cbar_kwargs={'shrink': 0.9, 'label': 'K'})\n",
    "    \n",
    "    # EIS\n",
    "    EIS_enso.sel(nino34='nino').plot(ax=ax[0,1],transform=ccrs.PlateCarree(),\n",
    "                                     cmap=plt.get_cmap('RdBu').reversed(),cbar_kwargs={'shrink': 0.9, 'label': 'K'})\n",
    "\n",
    "    # Tadv\n",
    "    Tadv_enso.sel(nino34='nino').plot(ax=ax[1,0],transform=ccrs.PlateCarree(),\n",
    "                                      cmap=plt.get_cmap('RdBu').reversed(),cbar_kwargs={'shrink': 0.9, 'label': 'K/day'},\n",
    "                                      vmin=-1.5,vmax=1.5)\n",
    "\n",
    "    # RH700\n",
    "    RH700_enso.sel(nino34='nino').plot(ax=ax[1,1],transform=ccrs.PlateCarree(),\n",
    "                                       cmap=plt.get_cmap('RdBu').reversed(),cbar_kwargs={'shrink': 0.9, 'label': '%'})\n",
    "\n",
    "    # w700\n",
    "    w700_enso.sel(nino34='nino').plot(ax=ax[2,0],transform=ccrs.PlateCarree(),\n",
    "                                      cmap=plt.get_cmap('RdBu').reversed(),cbar_kwargs={'shrink': 0.9, 'label': 'hPa/day'},\n",
    "                                      vmin=-50,vmax=50)\n",
    "\n",
    "    # ws\n",
    "    ws_enso.sel(nino34='nino').plot(ax=ax[2,1],transform=ccrs.PlateCarree(),\n",
    "                                    cmap=plt.get_cmap('RdBu').reversed(),cbar_kwargs={'shrink': 0.9, 'label': 'm/s'})\n",
    "       \n",
    "    for i in np.arange(0,3,1):\n",
    "        for j in np.arange(0,2,1):\n",
    "            ax[i,j].set_title('El Nino Composite for ' + enso_comp_title[i][j], fontdict={'fontsize':30})"
   ]
  }
 ],
 "metadata": {
  "kernelspec": {
   "display_name": "Python 3 (ipykernel)",
   "language": "python",
   "name": "python3"
  },
  "language_info": {
   "codemirror_mode": {
    "name": "ipython",
    "version": 3
   },
   "file_extension": ".py",
   "mimetype": "text/x-python",
   "name": "python",
   "nbconvert_exporter": "python",
   "pygments_lexer": "ipython3",
   "version": "3.8.3"
  }
 },
 "nbformat": 4,
 "nbformat_minor": 4
}
