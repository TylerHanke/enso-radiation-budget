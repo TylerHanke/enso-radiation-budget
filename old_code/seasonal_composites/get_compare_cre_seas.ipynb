{
 "cells": [
  {
   "cell_type": "code",
   "execution_count": null,
   "metadata": {},
   "outputs": [],
   "source": [
    "# Run ceres cre code if haven't already\n",
    "if plot_ceres_cre == 0: \n",
    "    %run ./get_ceres_seasonal_rad_anoms.ipynb"
   ]
  },
  {
   "cell_type": "code",
   "execution_count": null,
   "metadata": {},
   "outputs": [],
   "source": [
    "# Run model cre code if haven't already\n",
    "if plot_model_cre == 0:\n",
    "    %run ./get_model_cre_seas.ipynb"
   ]
  },
  {
   "cell_type": "code",
   "execution_count": null,
   "metadata": {},
   "outputs": [],
   "source": [
    "# Get difference between ceres and model cre, then plot in one output\n",
    "TOT_CRE = SST_CRE_en_comp + EIS_CRE_en_comp + Tadv_CRE_en_comp\n",
    "diff = loCld_enso_comp - TOT_CRE"
   ]
  },
  {
   "cell_type": "code",
   "execution_count": null,
   "metadata": {},
   "outputs": [],
   "source": [
    "def get_compare_cre(seas_index):\n",
    "    # Set up subplots figure with PlateCarree projection\n",
    "    fig, ax = plt.subplots(1,3,figsize=(15,3), subplot_kw={'projection': ccrs.PlateCarree(central_longitude=180)})\n",
    "    fig.tight_layout(w_pad=15)\n",
    "    \n",
    "    seas_title = ['JJA-1', 'SON-1', 'DJF', 'MAM+1', 'JJA+1']\n",
    "    comp_title = ['Low Cloud CRE', 'SST+EIS+Tadv CRE', 'Difference']\n",
    "\n",
    "    # Plot Trends\n",
    "    cbar_data = loCld_enso_comp.get(seas_index).plot(ax=ax[0],transform=ccrs.PlateCarree(),cmap=plt.get_cmap('RdBu').reversed(),\n",
    "                       add_colorbar=False,vmin=-5,vmax=5)\n",
    "\n",
    "    TOT_CRE.get(seas_index).plot(ax=ax[1],transform=ccrs.PlateCarree(),cmap=plt.get_cmap('RdBu').reversed(),\n",
    "                       add_colorbar=False,vmin=-5,vmax=5)\n",
    "\n",
    "    diff.get(seas_index).plot(ax=ax[2],transform=ccrs.PlateCarree(),cmap=plt.get_cmap('RdBu').reversed(),\n",
    "                       add_colorbar=False,vmin=-5,vmax=5)\n",
    "    \n",
    "    # Give each plot gridlines, coastlines, and block out continents\n",
    "    for i in np.arange(0,3,1):\n",
    "        ax[i].gridlines()\n",
    "        ax[i].coastlines()\n",
    "        ax[i].add_feature(cartopy.feature.LAND,zorder=100,facecolor='k',edgecolor='k')\n",
    "        ax[i].set_aspect('auto')\n",
    "        \n",
    "        if seas_index == 'JJA_back':\n",
    "            ax[i].set_title(comp_title[i], fontsize=20)\n",
    "        elif seas_index == 'JJA_for':\n",
    "            cbar_ax = fig.add_axes([0.01, -0.1, 0.98, 0.05])\n",
    "            cbar = fig.colorbar(cbar_data, cax=cbar_ax, orientation='horizontal', extend='both')\n",
    "            cbar.ax.tick_params(labelsize=20)\n",
    "            cbar.set_label(label='$W/m^2/K$', size=20)\n",
    "            ax[i].set_title(None)\n",
    "        else:\n",
    "            ax[i].set_title(None)\n",
    "            \n",
    "    fig.suptitle('Season = ' + seas_title[k], y=0.85, x=-0.01, rotation='vertical', fontsize=20)"
   ]
  },
  {
   "cell_type": "code",
   "execution_count": null,
   "metadata": {},
   "outputs": [],
   "source": []
  }
 ],
 "metadata": {
  "kernelspec": {
   "display_name": "Python 3 (ipykernel)",
   "language": "python",
   "name": "python3"
  },
  "language_info": {
   "codemirror_mode": {
    "name": "ipython",
    "version": 3
   },
   "file_extension": ".py",
   "mimetype": "text/x-python",
   "name": "python",
   "nbconvert_exporter": "python",
   "pygments_lexer": "ipython3",
   "version": "3.8.3"
  }
 },
 "nbformat": 4,
 "nbformat_minor": 4
}
