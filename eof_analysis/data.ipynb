{
 "cells": [
  {
   "cell_type": "code",
   "execution_count": null,
   "id": "db5d28bb",
   "metadata": {},
   "outputs": [],
   "source": [
    "def detrend(x):\n",
    "    poly = x.polyfit(dim='time', deg=1)\n",
    "    fit = xr.polyval(x['time'], poly.polyfit_coefficients)\n",
    "    return x - fit"
   ]
  },
  {
   "cell_type": "code",
   "execution_count": null,
   "id": "b6ed3b05",
   "metadata": {},
   "outputs": [],
   "source": [
    "# Load relevant data\n",
    "## Load CCF anomaly dataset\n",
    "ccf_anom = xr.open_dataset('/data/keeling/a/tjhanke2/enso-energy-budget/Data/processed_data/ccf_anom/expanded_domain/ccf_anom_med_res_1979.nc')\n",
    "\n",
    "SST_anom = detrend(ccf_anom.SST_anom)\n",
    "EIS_anom = detrend(ccf_anom.EIS_anom) \n",
    "Tadv_anom = detrend(ccf_anom.Tadv_anom) \n",
    "\n",
    "## Load CERES radiation anomaly dataset\n",
    "ceres_rad_anom = xr.open_dataset('/data/keeling/a/tjhanke2/enso-energy-budget/Data/processed_data/ceres_anom/ceres_anom_med_res.nc')\n",
    "\n",
    "loCld_cre = detrend(ceres_rad_anom.loCld_cre) \n",
    "highCld_cre = detrend(ceres_rad_anom.highCld_cre)\n",
    "net_cre = detrend(ceres_rad_anom.net_cre)\n",
    "clr_sky = detrend(ceres_rad_anom.clr_sky)\n",
    "all_sky = detrend(ceres_rad_anom.all_sky)\n",
    "\n",
    "# Global-mean radiation\n",
    "all_sky_gm = all_sky.weighted(weight).mean(dim=('latitude','longitude'))\n",
    "clr_sky_gm = clr_sky.weighted(weight).mean(dim=('latitude','longitude'))\n",
    "net_cre_gm = net_cre.weighted(weight).mean(dim=('latitude','longitude'))\n",
    "loCld_cre_gm = loCld_cre.weighted(weight).mean(dim=('latitude','longitude'))\n",
    "highCld_cre_gm = highCld_cre.weighted(weight).mean(dim=('latitude','longitude'))\n",
    "\n",
    "nino34_orig = xr.open_dataset('/data/keeling/a/tjhanke2/enso-energy-budget/Data/processed_data/ccf_anom/expanded_domain/nino34_rolling_1979.nc')\n",
    "nino34_orig_nonan = nino34_orig.sst.dropna(dim='time')"
   ]
  },
  {
   "cell_type": "code",
   "execution_count": null,
   "id": "4f18e6c9",
   "metadata": {},
   "outputs": [],
   "source": [
    "## Load CCF CRE anomaly dataset\n",
    "ccf_cre_anom = xr.open_dataset('/data/keeling/a/tjhanke2/enso-energy-budget/Data/processed_data/ccf_cre_anom/ccf_cre_anom.nc')\n",
    "ccf_cre_anom['latitude'] = np.arange(-90,90,5)\n",
    "\n",
    "SST_CRE_anom = detrend(ccf_cre_anom.SST_CRE)\n",
    "EIS_CRE_anom = detrend(ccf_cre_anom.EIS_CRE)\n",
    "Tadv_CRE_anom = detrend(ccf_cre_anom.Tadv_CRE)\n",
    "\n",
    "## Load CLR SKY anomaly dataset\n",
    "clr_sky_kernel_anom = xr.open_dataset('/data/keeling/a/tjhanke2/enso-energy-budget/Data/processed_data/clr_sky_kernel_decomp/clr_sky_kernel_medRes_data.nc')\n",
    "\n",
    "dR_dT_anom = detrend(clr_sky_kernel_anom.dR_anom_by_dT)\n",
    "dR_dq_lw_anom = detrend(clr_sky_kernel_anom.dR_anom_by_dq_lw)"
   ]
  },
  {
   "cell_type": "code",
   "execution_count": null,
   "id": "f0b427e8",
   "metadata": {},
   "outputs": [],
   "source": [
    "## Get global-mean CRE and CLR SKY\n",
    "SST_CRE_gm = SST_CRE_anom.weighted(weight).mean(dim=('latitude','longitude'))\n",
    "EIS_CRE_gm = EIS_CRE_anom.weighted(weight).mean(dim=('latitude','longitude'))\n",
    "Tadv_CRE_gm = Tadv_CRE_anom.weighted(weight).mean(dim=('latitude','longitude'))\n",
    "dR_dT_gm = dR_dT_anom.weighted(weight).mean(dim=('latitude','longitude'))\n",
    "dR_dq_lw_gm = dR_dq_lw_anom.weighted(weight).mean(dim=('latitude','longitude'))"
   ]
  }
 ],
 "metadata": {
  "kernelspec": {
   "display_name": "Python 3 (ipykernel)",
   "language": "python",
   "name": "python3"
  },
  "language_info": {
   "codemirror_mode": {
    "name": "ipython",
    "version": 3
   },
   "file_extension": ".py",
   "mimetype": "text/x-python",
   "name": "python",
   "nbconvert_exporter": "python",
   "pygments_lexer": "ipython3",
   "version": "3.8.3"
  }
 },
 "nbformat": 4,
 "nbformat_minor": 5
}
