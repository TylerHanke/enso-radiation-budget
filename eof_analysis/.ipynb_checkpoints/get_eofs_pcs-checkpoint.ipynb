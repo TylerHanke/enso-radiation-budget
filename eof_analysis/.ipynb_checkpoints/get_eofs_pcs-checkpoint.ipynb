{
 "cells": [
  {
   "cell_type": "code",
   "execution_count": 20,
   "metadata": {
    "scrolled": false
   },
   "outputs": [],
   "source": [
    "# Find SST EOFs and put them in xarray DataArray\n",
    "lag_list = np.arange(-12,12)\n",
    "weights = np.cos(np.deg2rad(SST_anom_lag.latitude))\n",
    "\n",
    "solver = Eof(SST_anom_lag.transpose('lag','longitude','latitude').values,weights=weights.values,center=True)\n",
    "\n",
    "eof_SST = xr.DataArray(data=solver.eofsAsCorrelation(neofs=24),\n",
    "                      coords={'dim_0':np.arange(0,24),\n",
    "                              'dim_1':SST_anom_lag.longitude.values,\n",
    "                              'dim_2':SST_anom_lag.latitude.values})\n",
    "eof_SST = eof_SST.rename({'dim_0':'mode','dim_1':'longitude','dim_2':'latitude'})\n",
    "eof1_SST = eof_SST.sel(mode=0).transpose('latitude','longitude')\n",
    "eof2_SST = eof_SST.sel(mode=1).transpose('latitude','longitude')\n",
    "\n",
    "# Find SST PCs and put them in xarray DataArray\n",
    "pc_SST = xr.DataArray(data=solver.pcs(npcs=24,pcscaling=1),\n",
    "                      coords={'dim_0':lag_list,\n",
    "                              'dim_1':np.arange(0,24)})\n",
    "pc_SST = pc_SST.rename({'dim_0':'lag','dim_1':'mode'})\n",
    "pc1_SST = pc_SST.sel(mode=0)\n",
    "del pc1_SST['mode']\n",
    "pc2_SST = pc_SST.sel(mode=1)\n",
    "del pc2_SST['mode']"
   ]
  },
  {
   "cell_type": "code",
   "execution_count": null,
   "metadata": {},
   "outputs": [],
   "source": [
    "glb_comps = xr.open_dataset('/data/keeling/a/tjhanke2/enso-energy-budget/Data/processed_data/composites/glb_comps.nc')\n",
    "reg_comps = xr.open_dataset('/data/keeling/a/tjhanke2/enso-energy-budget/Data/processed_data/composites/reg_comps.nc')\n",
    "\n",
    "solver_comp = Eof(reg_comps.SST.transpose('lag','longitude','latitude').values,weights=weights.values,center=True)\n",
    "\n",
    "eof_SST_comp = xr.DataArray(data=solver_comp.eofsAsCorrelation(neofs=24),\n",
    "                      coords={'dim_0':np.arange(0,24),\n",
    "                              'dim_1':SST_anom_lag.longitude.values,\n",
    "                              'dim_2':SST_anom_lag.latitude.values})\n",
    "eof_SST_comp = eof_SST_comp.rename({'dim_0':'mode','dim_1':'longitude','dim_2':'latitude'})\n",
    "\n",
    "# Find SST PCs and put them in xarray DataArray\n",
    "pc_SST_comp = xr.DataArray(data=solver_comp.pcs(npcs=24,pcscaling=1),\n",
    "                      coords={'dim_0':lag_list,\n",
    "                              'dim_1':np.arange(0,24)})\n",
    "pc_SST_comp = pc_SST_comp.rename({'dim_0':'lag','dim_1':'mode'})\n"
   ]
  },
  {
   "cell_type": "code",
   "execution_count": null,
   "metadata": {},
   "outputs": [],
   "source": [
    "def eof_var_frac(solver_type):\n",
    "    varFrac = solver_type.varianceFraction(neigs=24)\n",
    "    eof_var = np.cumsum(varFrac)\n",
    "\n",
    "    plt.figure(figsize=(12,6),dpi=200)\n",
    "    plt.plot(np.arange(1,25),eof_var,marker='o',color='r')\n",
    "    plt.axhline(y=0.95,color='black',linestyle='dotted')\n",
    "    plt.xticks(np.arange(1,25))\n",
    "    plt.xlabel('EOF Mode')\n",
    "    plt.ylabel('Fraction of Variance Explained')\n",
    "    plt.title('Fraction of Variance Explained by Each EOF Mode');"
   ]
  }
 ],
 "metadata": {
  "kernelspec": {
   "display_name": "Python 3 (ipykernel)",
   "language": "python",
   "name": "python3"
  },
  "language_info": {
   "codemirror_mode": {
    "name": "ipython",
    "version": 3
   },
   "file_extension": ".py",
   "mimetype": "text/x-python",
   "name": "python",
   "nbconvert_exporter": "python",
   "pygments_lexer": "ipython3",
   "version": "3.8.3"
  }
 },
 "nbformat": 4,
 "nbformat_minor": 4
}
