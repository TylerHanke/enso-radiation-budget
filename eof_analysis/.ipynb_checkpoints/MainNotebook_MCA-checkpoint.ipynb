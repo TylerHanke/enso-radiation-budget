{
 "cells": [
  {
   "cell_type": "code",
   "execution_count": 6,
   "id": "18dd31bf",
   "metadata": {},
   "outputs": [
    {
     "data": {
      "text/html": [
       "<style>.container { width:90% !important; }</style>"
      ],
      "text/plain": [
       "<IPython.core.display.HTML object>"
      ]
     },
     "metadata": {},
     "output_type": "display_data"
    }
   ],
   "source": [
    "## Import packages here\n",
    "# Data Management\n",
    "import numpy as np\n",
    "import xarray as xr\n",
    "import pandas as pd\n",
    "import netCDF4 as nc\n",
    "import cftime\n",
    "\n",
    "# Plotting\n",
    "import matplotlib as mpl\n",
    "import matplotlib.pyplot as plt\n",
    "import cartopy\n",
    "from cartopy import config\n",
    "import cartopy.crs as ccrs\n",
    "\n",
    "# Statistics\n",
    "import climlab\n",
    "from sklearn.linear_model import LinearRegression\n",
    "import scipy.stats as st\n",
    "from scipy import linalg\n",
    "import statsmodels.api as sm\n",
    "from eofs.standard import Eof\n",
    "#from statsmodels.tsa.forecasting.theta import ThetaModel\n",
    "#from xmca.xarray import xMCA ### IS NOT WORKING\n",
    "\n",
    "# Window Display\n",
    "import warnings\n",
    "from IPython.core.display import display, HTML\n",
    "display(HTML(\"<style>.container { width:90% !important; }</style>\"))\n",
    "warnings.filterwarnings('ignore')\n",
    "%matplotlib inline"
   ]
  },
  {
   "cell_type": "code",
   "execution_count": 2,
   "id": "bce03fb7",
   "metadata": {},
   "outputs": [
    {
     "data": {
      "text/html": [
       "<style>.container { width:90% !important; }</style>"
      ],
      "text/plain": [
       "<IPython.core.display.HTML object>"
      ]
     },
     "metadata": {},
     "output_type": "display_data"
    }
   ],
   "source": [
    "# Load all global constants and global functions\n",
    "%run /data/keeling/a/tjhanke2/enso-energy-budget/Data/get_global_constants.ipynb\n",
    "%run /data/keeling/a/tjhanke2/enso-energy-budget/Data/get_data_variables_fncs.ipynb"
   ]
  },
  {
   "cell_type": "code",
   "execution_count": 3,
   "id": "f5811779",
   "metadata": {},
   "outputs": [],
   "source": [
    "# Get CERES Radiation Variables\n",
    "%run ./get_ceres.ipynb\n",
    "\n",
    "# Get CCF Variables\n",
    "%run ./get_ccfs.ipynb"
   ]
  },
  {
   "cell_type": "markdown",
   "id": "02d721ba",
   "metadata": {},
   "source": [
    "# MCA ANALYSIS"
   ]
  },
  {
   "cell_type": "code",
   "execution_count": 51,
   "id": "ea99585c",
   "metadata": {},
   "outputs": [],
   "source": [
    "def MCA(x,y):\n",
    "    # First, stack x and y variables\n",
    "    x_stack = x.stack(allpoints=('latitude','longitude')).dropna(dim='allpoints')\n",
    "    y_stack = y.stack(allpoints=('latitude','longitude')).dropna(dim='allpoints')\n",
    "    \n",
    "    # Now, calculate the covariance matrix Cxy\n",
    "    Cxy = xr.cov(x_stack, y_stack)\n",
    "    \n",
    "#     # Remove the nans\n",
    "#     Cxy_nonan = Cxy.dropna(dim='allpoints')\n",
    "    \n",
    "#     # Use scipy SVD to factorize Cxy into U, S, and V and diagonalize S\n",
    "#     u, sigma, v = linalg.svd(Cxy,full_matrices=False)\n",
    "#     s = np.diag(sigma)\n",
    "    \n",
    "#     # Finally, refill with nans\n",
    "#     U = xr.zeros_like(x_stack); S = xr.zeros_like(x_stack); V = xr.zeros_like(x_stack)\n",
    "    \n",
    "    return Cxy"
   ]
  },
  {
   "cell_type": "code",
   "execution_count": 52,
   "id": "421fd80e",
   "metadata": {},
   "outputs": [],
   "source": [
    "v_test = MCA(SST_anom_loRes,all_sky_anom)"
   ]
  },
  {
   "cell_type": "code",
   "execution_count": null,
   "id": "1095718a",
   "metadata": {},
   "outputs": [],
   "source": []
  },
  {
   "cell_type": "code",
   "execution_count": 40,
   "id": "a23ec031",
   "metadata": {},
   "outputs": [
    {
     "data": {
      "text/plain": [
       "(210, 210)"
      ]
     },
     "execution_count": 40,
     "metadata": {},
     "output_type": "execute_result"
    }
   ],
   "source": [
    "u_test.shape"
   ]
  },
  {
   "cell_type": "code",
   "execution_count": 41,
   "id": "e9c8ac98",
   "metadata": {},
   "outputs": [
    {
     "data": {
      "text/plain": [
       "(210, 210)"
      ]
     },
     "execution_count": 41,
     "metadata": {},
     "output_type": "execute_result"
    }
   ],
   "source": [
    "s_test.shape"
   ]
  },
  {
   "cell_type": "code",
   "execution_count": 53,
   "id": "978b0e76",
   "metadata": {},
   "outputs": [
    {
     "data": {
      "text/plain": [
       "()"
      ]
     },
     "execution_count": 53,
     "metadata": {},
     "output_type": "execute_result"
    }
   ],
   "source": [
    "v_test.shape"
   ]
  },
  {
   "cell_type": "code",
   "execution_count": 43,
   "id": "b3fa81e1",
   "metadata": {},
   "outputs": [],
   "source": [
    "scf = s_test**2/sum(s_test**2)"
   ]
  },
  {
   "cell_type": "code",
   "execution_count": 44,
   "id": "8b20c962",
   "metadata": {},
   "outputs": [
    {
     "data": {
      "text/plain": [
       "(210, 210)"
      ]
     },
     "execution_count": 44,
     "metadata": {},
     "output_type": "execute_result"
    }
   ],
   "source": [
    "scf.shape"
   ]
  },
  {
   "cell_type": "code",
   "execution_count": 48,
   "id": "0bb0f934",
   "metadata": {},
   "outputs": [
    {
     "data": {
      "text/plain": [
       "array([[-0.10881649,  0.04803528, -0.08211175, ..., -0.01576688,\n",
       "         0.03547154, -0.01511343],\n",
       "       [-0.05867908,  0.01234347, -0.02563129, ...,  0.00224003,\n",
       "         0.01258993, -0.03758365],\n",
       "       [-0.00554813,  0.01047087,  0.03667133, ..., -0.10837931,\n",
       "         0.09875552, -0.00563594],\n",
       "       ...,\n",
       "       [ 0.00163861,  0.00348256,  0.00656804, ...,  0.00744782,\n",
       "         0.044451  , -0.0803237 ],\n",
       "       [-0.00206478,  0.01541866,  0.02879326, ..., -0.0042163 ,\n",
       "        -0.01629421, -0.00088195],\n",
       "       [-0.00124621,  0.01564962,  0.08463466, ..., -0.0136267 ,\n",
       "        -0.0082496 , -0.00267855]])"
      ]
     },
     "execution_count": 48,
     "metadata": {},
     "output_type": "execute_result"
    }
   ],
   "source": [
    "u_test"
   ]
  },
  {
   "cell_type": "code",
   "execution_count": 46,
   "id": "0b0877b4",
   "metadata": {},
   "outputs": [
    {
     "data": {
      "text/plain": [
       "[<matplotlib.lines.Line2D at 0x2b76fb004e20>]"
      ]
     },
     "execution_count": 46,
     "metadata": {},
     "output_type": "execute_result"
    },
    {
     "data": {
      "image/png": "[encoded data removed]",
      "text/plain": [
       "<Figure size 432x288 with 1 Axes>"
      ]
     },
     "metadata": {
      "needs_background": "light"
     },
     "output_type": "display_data"
    }
   ],
   "source": [
    "plt.plot(np.cumsum(scf[:,0]),'x')"
   ]
  },
  {
   "cell_type": "code",
   "execution_count": null,
   "id": "e1944be9",
   "metadata": {},
   "outputs": [],
   "source": []
  }
 ],
 "metadata": {
  "kernelspec": {
   "display_name": "Python 3 (ipykernel)",
   "language": "python",
   "name": "python3"
  },
  "language_info": {
   "codemirror_mode": {
    "name": "ipython",
    "version": 3
   },
   "file_extension": ".py",
   "mimetype": "text/x-python",
   "name": "python",
   "nbconvert_exporter": "python",
   "pygments_lexer": "ipython3",
   "version": "3.8.3"
  }
 },
 "nbformat": 4,
 "nbformat_minor": 5
}
