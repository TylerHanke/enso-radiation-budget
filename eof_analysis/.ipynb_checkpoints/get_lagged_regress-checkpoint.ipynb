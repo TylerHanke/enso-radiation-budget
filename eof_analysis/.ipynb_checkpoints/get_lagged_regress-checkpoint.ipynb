{
 "cells": [
  {
   "cell_type": "code",
   "execution_count": null,
   "id": "4be67fff",
   "metadata": {},
   "outputs": [],
   "source": [
    "### Perform lagged regression (w/ the possibility of normal regression for lag = 0) on two datasets x and y.\n",
    "def lagged_regress(x,y,lag): \n",
    "    # First, set up by stacking 3D data and shifting X\n",
    "    y_stack = y.stack(allpoints=('latitude','longitude')).dropna(dim='allpoints')\n",
    "    x_lag = x.shift(time=lag)\n",
    "    \n",
    "    # Align to remove nans in X\n",
    "    i = np.isfinite(x_lag)\n",
    "    a_lag, b_stack = xr.align(x_lag[i], y_stack[i])\n",
    "    \n",
    "    # Perform linear regression\n",
    "    reg = LinearRegression().fit(a_lag.values.reshape(-1,1),b_stack)\n",
    "    \n",
    "    # Place betas in xarray, unstack, and return \n",
    "    reg_da = xr.DataArray(data=reg.coef_,\n",
    "                          coords={'dim_0':y_stack.allpoints.values})\n",
    "    \n",
    "    reg_rename = reg_da.rename({'dim_0':'allpoints'})\n",
    "    reg_xr = reg_rename.reindex_like(y_stack)\n",
    "    reg_unstack = reg_xr.unstack('allpoints')\n",
    "    \n",
    "    return reg_unstack"
   ]
  },
  {
   "cell_type": "code",
   "execution_count": null,
   "id": "05f2ac48",
   "metadata": {},
   "outputs": [],
   "source": [
    "# Convert data from time to lag coords\n",
    "def time2lag(x,y,lag):\n",
    "    y_lag = []\n",
    "\n",
    "    for i in lag:\n",
    "        y_lag.append(lagged_regress(x,y,i))\n",
    "\n",
    "    y_lag_xr = xr.concat(y_lag,dim='lag').assign_coords({'lag':lag})\n",
    "    \n",
    "    return y_lag_xr"
   ]
  }
 ],
 "metadata": {
  "kernelspec": {
   "display_name": "Python 3 (ipykernel)",
   "language": "python",
   "name": "python3"
  },
  "language_info": {
   "codemirror_mode": {
    "name": "ipython",
    "version": 3
   },
   "file_extension": ".py",
   "mimetype": "text/x-python",
   "name": "python",
   "nbconvert_exporter": "python",
   "pygments_lexer": "ipython3",
   "version": "3.8.3"
  }
 },
 "nbformat": 4,
 "nbformat_minor": 5
}
